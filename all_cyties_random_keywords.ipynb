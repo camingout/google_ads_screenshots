{
 "cells": [
  {
   "cell_type": "code",
   "execution_count": 6,
   "id": "fca21c04",
   "metadata": {},
   "outputs": [
    {
     "name": "stdout",
     "output_type": "stream",
     "text": [
      "Vinnytsia купить чехол книжку на редми 6\n"
     ]
    }
   ],
   "source": [
    "from selenium import webdriver\n",
    "from selenium.webdriver.common.by import By\n",
    "import chromedriver_autoinstaller\n",
    "import datetime\n",
    "import uule_grabber\n",
    "import time\n",
    "import secrets\n",
    "import csv\n",
    "\n",
    "chromedriver_autoinstaller.install()\n",
    "\n",
    "filegeo = 'geo_u.txt'\n",
    "with open(f'{filegeo}', 'r', encoding=\"utf-8\") as f:\n",
    "        proxies1 = list(filter(lambda x: len(x.strip()) > 0, f))\n",
    "        geo = list(map(lambda x: x.replace('\\n', ''), proxies1))\n",
    "        \n",
    "filegeo = 'keywords_kenzi.txt'\n",
    "with open(f'{filegeo}', 'r', encoding=\"utf-8\") as f:\n",
    "        proxies1 = list(filter(lambda x: len(x.strip()) > 0, f))\n",
    "        keywords = list(map(lambda x: x.replace('\\n', ''), proxies1))\n",
    "\n",
    "hl = 'ru' #hl=sv          Swedish https://en.wikipedia.org/wiki/List_of_ISO_639-1_codes\n",
    "country = 'ua' #se \tSweden  \n",
    "num = '10' # Кількість результатів пошуку\n",
    "zone = 'com.ua' #'com.ua'\n",
    "# region = 'Kyiv,Kyiv city,Ukraine'  #'Kyiv,Kyiv city,Ukraine', 'UA'   New York,New York,United States\n",
    "# uule = uule_grabber.uule(region)\n",
    "opys = {}\n",
    "brands = {}\n",
    "for region in geo:\n",
    "    uule = uule_grabber.uule(region)\n",
    "    city = region.split(',')[0]\n",
    "    keyword = secrets.choice(keywords)\n",
    "\n",
    "    chrome_options = webdriver.ChromeOptions()\n",
    "    chrome_options.headless = True\n",
    "    chrome_options.add_argument(\"--disable-blink-features=AutomationControlled\")\n",
    "    chrome_options.add_argument(\"start-maximized\")\n",
    "#         mobile_emulation = { \"deviceName\": \"Nexus 5\", \"userAgent\": \"Mozilla/5.0 (Linux; Android 4.2.1; en-us; Nexus 5 Build/JOP40D) AppleWebKit/535.19 (KHTML, like Gecko) Chrome/18.0.1025.166 Mobile Safari/535.19\" } }\n",
    "\n",
    "#         chrome_options.add_experimental_option(\"mobileEmulation\", mobile_emulation)\n",
    "\n",
    "    dt = datetime.datetime.now().strftime(\"%d_%m_%Y_%H_%M_%S\")\n",
    "\n",
    "    print(city, keyword)\n",
    "    browser = webdriver.Chrome(options=chrome_options)\n",
    "    browser.get(f'https://google.com.ua/search?q={keyword}&pws=0&uule={uule}&hl={hl}&gl={country}')\n",
    "    time.sleep(2)\n",
    "    \n",
    "#     opys = {}\n",
    "#     brands = {}\n",
    "    try:\n",
    "        if browser.find_elements(By.XPATH, \"//div[@id='result-stats']\"):\n",
    "            browser.save_screenshot(f'screenshots/{dt}_{city}_desk.png')\n",
    "            brend = browser.find_elements(By.XPATH, \"//div[@class='LbUacb']\")\n",
    "            brends = list(map(lambda x: x.text, brend))\n",
    "            brands[keyword+'_'+city] = brends\n",
    "#             print(brends)\n",
    "            title = browser.find_elements(By.XPATH, \"//span[@class='pymv4e']\")\n",
    "            titles = list(map(lambda x: x.text, title))\n",
    "#             print(titles)\n",
    "#             opys[keyword] = [brends, titles]\n",
    "            opys[keyword+'_'+city] = [list(tup) for tup in zip(brends, titles)]\n",
    "            \n",
    "    except:pass\n",
    "\n",
    "\n",
    "    browser.close()\n",
    "    browser.quit()\n",
    "    time.sleep(15) \n",
    "    break\n",
    "    \n",
    "def save_csv(typelist, dict):    \n",
    "    try:\n",
    "        file = open(f\"{dt_csv}_{typelist}.csv\", \"w\", encoding=\"utf-8\")\n",
    "        # make write object\n",
    "        writer = csv.writer(file, lineterminator = '\\n')\n",
    "        for key, value in dict.items():\n",
    "            writer.writerow([key, value])\n",
    "        file.close()\n",
    "        print(f\"{dt_csv}_{typelist}.csv - збережено\")\n",
    "    except Error as e:\n",
    "        print(f\"The error '{e}' occurred\")\n",
    "        pass\n",
    "    \n",
    "dt_csv = datetime.datetime.now().strftime(\"%d_%m_%Y_%H_%M_%S\")  \n",
    "save_csv('vydacha', opys)\n",
    "save_csv('brands', brands)\n"
   ]
  },
  {
   "cell_type": "code",
   "execution_count": 4,
   "id": "76b9ca82",
   "metadata": {},
   "outputs": [
    {
     "data": {
      "text/plain": [
       "'30_11_2022_13_35_55'"
      ]
     },
     "execution_count": 4,
     "metadata": {},
     "output_type": "execute_result"
    }
   ],
   "source": [
    "dt_csv"
   ]
  }
 ],
 "metadata": {
  "kernelspec": {
   "display_name": "Python 3",
   "language": "python",
   "name": "python3"
  },
  "language_info": {
   "codemirror_mode": {
    "name": "ipython",
    "version": 3
   },
   "file_extension": ".py",
   "mimetype": "text/x-python",
   "name": "python",
   "nbconvert_exporter": "python",
   "pygments_lexer": "ipython3",
   "version": "3.8.8"
  }
 },
 "nbformat": 4,
 "nbformat_minor": 5
}
