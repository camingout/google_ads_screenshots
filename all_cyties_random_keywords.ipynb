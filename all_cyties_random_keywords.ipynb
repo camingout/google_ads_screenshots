{
 "cells": [
  {
   "cell_type": "code",
   "execution_count": 45,
   "id": "fca21c04",
   "metadata": {},
   "outputs": [
    {
     "name": "stdout",
     "output_type": "stream",
     "text": [
      "Vinnytsia чехол книжка айфон 12 про макс\n",
      "['Nillkincase.com...', 'ВЧехле', 'WOMUX', 'KENZI', 'Nillkincase.com...', 'chekhol.com.ua', 'bestcover.com.ua', 'Mobile-Case', 'Іван Чохол', 'WOMUX', 'AKS.ua', 'VEST', 'ITFridge', 'ВЧехле', 'KENZI', 'Nillkincase.com...', 'iLounge', 'WOMUX', 'Zakazuy', 'Top-best.ua', 'WOMUX', 'ВЧехле', 'Kiber Panda', 'Saltov', 'Nillkincase.com...', 'mocolo.org.ua', 'WOMUX', 'chekhol.com.ua', 'WOMUX']\n",
      "['Чохол-книжка Dux Ducis з кишенею для візиток для Apple iPhone 12 Pro Max (6.7 \"), Черный', '', 'Кожаный чехол (книжка) Nillkin Qin Pro Camshield для Apple iPhone 13 Pro Max (6.7\")', '', 'Чехол книжка из натуральной кожи магнитный противоударный для IPhone 12 Pro \"BOTTEGA\" Коричневый - No1', '', 'Чехол книжка для iPhone 12 Pro Max - Flip Magnetic Case (чёрный)', '', 'Чохол-книжка Dux Ducis з кишенею для візиток для Apple iPhone 12 Pro Max (6.7 \"), Синий', '', 'Кожаный чехол-книжка QIALINO Classic Case для iPhone 14 Pro Max - коричневый', '', 'Чехол-книжка Litchie Wallet для Apple iPhone 12 Pro Max Black', '', 'Чехол-книжка Litchie Wallet для Apple iPhone 12 Pro Max Black', '', 'Чехол-книжка Mercedes для iPhone 12 | 12 Pro Urban Line Red (MEFLBKP12MARMRE)', '', 'Чехол книжка из натуральной кожи магнитный противоударный для Xiaomi 12 \"ITALIAN\"', '', 'Чехол-книжка 1TOUCH Premium для iPhone 12 Pro Max (Dark Brown)', '', 'Чехол книжка зеркало Clear View для Apple Iphone 12 / 12 Pro', '', 'Чехол книжка Level для iPhone 12 / 12 Pro Экокожа Черный', '', 'Чехол-книжка Dux Ducis с карманом для визиток для Apple iPhone 12 Pro Max (6.7\")', '', 'Чехол книжка для iPhone 12 Pro Max - Flip Magnetic Case (марсала)', '', 'Шкіряний чохол (книжка) Nillkin Qin Pro Camshield для Apple iPhone 13 Pro Max (6.7 \"), Синий', '', 'Кожаный чехол-бумажник iLoungeMax Leather Folio Taupe для iPhone 11 Pro OEM, Лучшая копия Apple - Серый, Бумажники', '', 'Чехол книжка из натуральной мраморной кожи противоударный магнитный для IPhone 12 Pro Max \"MARBLE\" Тёмно-коричневый', '', 'Чехол-книжка Dux Ducis с карманом для Iphone 12 Pro Max - Розовый', '', 'Чохол книжка для iPhone 12 Pro Max Dux Ducis Skin X Blue (Синій)', '', 'Чехол книжка противоударный магнитный КОЖАНЫЙ влагостойкий для IPhone 12 Pro Max \"VERSANO\" No8 - Черный', '', 'Кожаный чехол (книжка) Nillkin Qin Series для Apple iPhone 12 Pro Max (6.7\")', '', 'Чехол-книжка Dux Ducis с карманом для визиток для Apple iPhone 12 Pro Max (6.7\") (Rose Gold)', '', 'Nillkin Apple iPhone 12 Pro Max (6.7\") Qin leather Brown case Кожаный Чехол Книжка', '', 'Шкіряний чохол (книга) Nillkin Qin Series для Apple iPhone 12 Pro Max (6.7\"), Синий', '', 'Magnetic case Full Glass 360 (магнитный чехол) для Apple iPhone 12 Pro Max', '', 'Чехол книжка противоударный магнитный КОЖАНЫЙ влагостойкий для IPhone 12 Pro Max \"GOLDAX\" Бордовый', '', 'Чехол-книжка Voltage Watercolor для iPhone 13 mini - зеленый', '', 'Чехол книжка из натуральной кожи магнитный противоударный для IPhone 12 Pro \"BOTTEGA\" Желтый - No10', '']\n",
      "Lutsk чехол книжка для xiaomi redmi 5 plus\n",
      "['ITFridge', 'KENZI', 'magazin-shop', 'ITFridge', 'AKS.ua', 'WOMUX', 'ROZETKA', '0629store.com....', 'Dzhin-shop', 'Zakazuy', 'itsell', 'Labaks', 'iBAG Store', 'magazin-shop', 'KENZI', 'WOMUX', 'AKS.ua', 'Oneaccs', 'Mobivibe', 'ВЧехле', 'bestcover.com.ua', 'ITFridge', 'ROZETKA', 'Zorrov', 'Mobile-Case', 'magazin-shop', 'WOMUX', 'Zakazuy', 'ITFridge']\n",
      "['Чехол книжка Level для Xiaomi Redmi 5 Plus Экокожа Черный', '', 'Чехол книжка для Xiaomi Redmi 5 Plus - Flip Magnetic Case (чёрный). Защитный магнитный чехол для телефона', '', 'Чехол книжка Magnei для Xiaomi Redmi 5 Plus с магнитом', '', 'Чехол книжка Level для Xiaomi Redmi 5 Plus Экокожа Зеленый', '', 'Чехол 1TOUCH Black TPU Magnet for Xiaomi Redmi 5 Plus Blue', '', 'Чехол книжка противоударный магнитный КОЖАНЫЙ влагостойкий для Xiaomi Redmi 5 Plus \"GOLDAX\"', '', 'Чехол-книжка Elegant на Xiaomi Redmi 5 Plus черный. Чехлы для мобильных телефонов', '', 'Чехол G-Case для Xiaomi Redmi 5 Plus книжка Ranger Series магнитная Black', '', 'Чехол TPU книжка на Xiaomi Redmi 5 Plus', '', 'Кожаный чехол-книжка 360 с визитницей для Xiaomi Redmi 5 Plus - Marsala', '', 'Кожаный чехол книжка GETMAN Gallant (PU) для Xiaomi Redmi 5 Plus / Redmi Note 5 (Single Camera) (Черный)', '', 'Чехол книжка Premium кожаный Xiaomi Redmi 5 Plus Черный', '', 'Кожаный Чехол книжка для Xiaomi Redmi 5 Plus / Redmi Note 5 (SC) (Бордовый)', '', 'Чехол книжка Idewei для Xiaomi Redmi 5 Plus (с застежкой)', '', 'Чехол книжка для Xiaomi Redmi 5 Plus - Flip Magnetic Case (марсала). Защитный магнитный чехол для телефона', '', 'Чехол книжка противоударный магнитный КОЖАНЫЙ влагостойкий для Xiaomi Redmi 5 Plus \"VERSANO\"', '', 'Чехол 1TOUCH Black TPU Magnet для Xiaomi Redmi 5 Plus Pink', '', 'Чехол книга для Xiaomi Redmi 5 Plus с эко кожи с подставкой магнитом книжка на сяоми 5 плюс розовая STN', '', 'Чохол-книжка шкіра для Xiaomi Redmi 5 Колір Малиновий', '', 'Кожаный чехол (книжка) Art Case с визитницей для Xiaomi Redmi Note 9 5G', '', 'Чехол-книжка Litchie Wallet для Xiaomi Redmi 5 Plus Белый', '', 'Чохол книжка Level для Xiaomi Redmi 5 Plus Екошкіра Бордовий', '', 'Чохол-книжка Dux Ducis PU Flip Leather Book Cover Xiaomi Redmi 5 Black (6934913091166). Чохли для мобільних телефонів', '', 'Чехол для Xiaomi Redmi 5 Plus черный матовый soft touch', '', 'Чехол-книжка Litchie Wallet для Xiaomi Redmi 5 Plus Белый', '', 'Чехол книжка Keyunfei для Xiaomi Redmi 5 Plus с магнитом', '', 'Чехол книжка магнитный противоударный для Xiaomi Redmi 5 Plus \"HLT\"', '', 'Кожаный чехол-книжка 360 с визитницей для Xiaomi Redmi 5 Plus - Black', '', 'Чехол книжка Level для Xiaomi Redmi 5 Plus Экокожа Серый', '']\n",
      "Dnipro чехол книжка на хонор 10 лайт\n",
      "['yavshoke.ua', 'Labaks', 'KENZI', 'ВЧехле', 'ROZETKA', 'WOMUX', 'Mobile-Case', '0629store.com....', 'Vseplus.com', 'yavshoke.ua', 'Zorrov', 'Top-best.ua', 'ITFridge', 'Zakazuy', 'e-star.ua', 'Prom', 'WOMUX', 'Labaks', 'Steklon.com.ua', 'Oneaccs', 'WOMUX', 'bestcover.com.ua', 'Vseplus.com', 'ROZETKA', '0629store.com....', 'Labaks', 'WOMUX', 'ROZETKA']\n",
      "['Чехол-книжка TOTO Book Rounded Leather Case Honor 10 Lite Black', '', 'Чехол книжка Premium кожаный Huawei Honor 10 Lite Черный', '', 'Чехол книжка для Honor 10 Lite - Flip Magnetic Case (золотой)', '', 'Кожаный чехол (книжка) Art Case с визитницей для Xiaomi Mi 10', '', 'Чохол-книжка Armorstandart G-Case для Huawei P Smart 2019/Honor 10 lite Dark Blue (ARM53989). Чохли для мобільних телефонів', '', 'Чехол книжка противоударный магнитный для HONOR 10 Lite \"PRIVILEGE\"', '', 'Чехол-книжка Litchie Wallet для Huawei P Smart 2019 / Honor 10 Lite Черный', '', 'Чехол Fiji G.C. для Honor 10 Lite книжка магнитная Bordo', '', 'Чехол (книжка) Huawei Honor 10 Lite / P Smart 2019, Leather Book Case, черный', '', 'Чехол-книжка TOTO Book Rounded Leather Case Honor 10 Lite Gray', '', 'Чехол для Huawei Honor 10 Lite черный матовый soft touch', '', 'Чохол книжка для Huawei Honor 10 Lite Anomaly Clear View Gold (Золотий)', '', 'Чехол книжка Level для Xiaomi Mi 10 Lite Экокожа Бордовый', '', 'Кожаный чехол-книжка Art Case с визитницей для Xiaomi Redmi 10 - Черный', '', 'Чехол книжка для Huawei Honor 10 Lite Nillkin Sparkle Gold (Золотой)', '', 'Чехол книжка Huawei Honor 10 lite Черный цвет \\\\ чехол-книга Honor 10 lite магнитная есть отдел для карты', '', 'Чехол книжка магнитный противоударный для HONOR 10 Lite \"HLT\" Черный', '', 'Чехол книжка Premium кожаный Huawei Honor 10 Lite Бордовый', '', 'Чехол книжка кожанный Huawei Honor 10 Lite/P Smart 2019 (Черный)', '', 'Чехол-книга для Huawei Mate 10 Lite с подставкой на магните книжка на телефон хуавей мейт 10 лайт синяя V3K', '', 'Чехол книжка противоударный магнитный КОЖАНЫЙ влагостойкий для Huawei MATE 10 Lite / Nova 2i \"GOLDAX\" Бордовый', '', 'Чехол-книжка Litchie Wallet для Huawei Honor 10 Черный', '', 'Чехол (книжка) Huawei Honor 10 Lite / P Smart 2019, Book Cover Leather Gelius, черный', '', 'Чехол-книжка Mobi для Honor 10 Lite Флип Красный Без Бренда. Чехлы для мобильных телефонов', '', 'Чехол G-Case для Honor 10 Lite книжка Ranger Series магнитная Blue', '', 'Чехол книжка Premium кожаный Huawei Honor 10 Lite Розовое золото', '', 'Чехол книжка противоударный магнитный КОЖАНЫЙ влагостойкий для HONOR 10 Lite \"VERSANO\" No8 - Черный', '', 'Чохол-книжка Armorstandart G-Case для Huawei P Smart 2019/Honor 10 Lite Black (ARM53988). Чохли для мобільних телефонів', '']\n"
     ]
    },
    {
     "name": "stdout",
     "output_type": "stream",
     "text": [
      "Kryvyi Rih чехол книжка iphone 11 pro max\n",
      "['Zakazuy', 'ВЧехле', 'WOMUX', 'Zakazuy', 'iLounge', 'KENZI', 'Іван Чохол', 'Zakazuy', 'AKS.ua', 'Zakazuy', 'VEST', 'Mobile-Case', 'Top-best.ua', 'ВЧехле', 'iLounge', 'WOMUX', 'shock.org.ua', 'Zakazuy', 'Іван Чохол', 'y.ua', 'Саме тут!', 'ВЧехле', 'WOMUX', 'e-star.ua']\n",
      "['Чехол-книжка с натуральной кожи Pierre Cardin Wallet для Iphone 11 Pro Max - Черный', '', 'Кожаный чехол (книжка) Nillkin Qin Pro Camshield для Xiaomi Redmi Note 11 Pro 5G', '', 'Чехол книжка противоударный магнитный КОЖАНЫЙ влагостойкий для Iphone 11 Pro MAX \"VERSANO\" No8 - Черный', '', 'Чехол-книжка с натуральной кожи Pierre Cardin Wallet для Iphone 11 Pro Max - Темно-коричневый', '', 'Шкіряний чохол-гаманець iLoungeMax Leather Folio Midnight Blue для iPhone 11 Pro OEM, Лучшая копия Apple - Синій, Копії Apple', '', 'Чехол книжка для iPhone 11 Pro Max - Flip Magnetic Case (марсала)', '', 'Чехол Apple Leather Folio для iPhone 11 Pro Max Black Original (MX082)', '', 'Чехол-книжка Dux Ducis с карманом для Iphone 11 Pro Max — Черный', '', 'Чехол-книжка 1TOUCH Premium для iPhone 11 Pro Max (Black)', '', 'Чехол-книжка Dux Ducis с карманом для Iphone 11 Pro Max — Синий', '', 'Чехол книжка зеркало Epik Clear View для Apple iPhone 11 Pro Max фиолетовый', '', 'Чехол-книжка Litchie Wallet для Apple iPhone 11 Pro Max Black', '', 'Чехол книжка для iPhone 11 Pro Max Anomaly Clear View Gold (Золотой)', '', 'TPU+PC чехол Nillkin CamShield Armor (шторка на камеру) для Apple iPhone 11 Pro Max (6.5\")', '', 'Кожаный чехол-бумажник iLoungeMax Leather Folio Taupe для iPhone 11 Pro OEM, Лучшая копия Apple - Серый, Бумажники', '', 'Чехол книжка из натуральной кожи магнитный противоударный для Iphone 11 Pro \"BOTTEGA\" Коричневый - No1', '', 'Чехол-книжка Nillkin Qin Leather Case Apple iPhone 11 Pro Max Black', '', 'Чехол-книжка с натуральной кожи Pierre Cardin Wallet для Iphone 11 Pro Max - Красный', '', 'Чехол Apple Leather Folio для iPhone 11 Pro Max Aubergine Original (MX092)', '', 'Аксессуар для iPhone Apple Leather Folio Case Aubergine (MX092) for iPhone 11 Pro Max', '', 'Чехол UAG Metropolis для iPhone 11 Pro Max Чёрный', '', 'Кожаный чехол (книжка) Nillkin Qin Pro Camshield для Apple iPhone 14 Pro (6.1\")', '', 'Чехол книжка противоударный магнитный КОЖАНЫЙ влагостойкий для Iphone 11 Pro MAX \"GOLDAX\" Бордовый', '', 'Чехол книжка для iPhone 11 Pro Max Nillkin Qin Black (Черный)', '']\n",
      "Nikopol' redmi note 7 чехол книжка\n",
      "['ITFridge', 'ВЧехле', 'KENZI', 'ROZETKA', '4you', 'ВЧехле', 'WOMUX', 'ITFridge', 'magazin-shop', 'Oneaccs', 'Labaks', 'itsell', 'Zorrov', 'VSMarket', 'Cherdak-store', 'WOMUX', 'ВЧехле', '4you', 'cherdak-store.c...', 'ITFridge', 'Steklon.com.ua', 'Prom', 'ROZETKA', 'WOMUX', '4you', 'magazin-shop', 'itsell']\n",
      "['Чехол книжка Level для Xiaomi Redmi Note 7 Экокожа Бордовый', '', 'Кожаный чехол (книжка) Art Case с визитницей для Xiaomi Redmi Note 7 Pro', '', 'Чехол книжка для Xiaomi Redmi Note 7 - Flip Magnetic Case (марсала)', '', 'Чохол IETP для Xiaomi Redmi Note 7 / Redmi Note 7 Pro книжка шкіра PU коричневий Без бренду. Чохли для мобільних телефонів', '', 'Чехол-книжка для телефона Xiaomi Redmi Note 7 Mia Brown (4you)', '', 'Кожаный чехол (книжка) Classy для Xiaomi Redmi Note 7 Pro', '', 'Чехол книжка противоударный магнитный КОЖАНЫЙ влагостойкий для XIAOMI Redmi NOTE 7 / 7 pro \"VERSANO\"', '', 'Чехол книжка Level для Xiaomi Redmi Note 7 Экокожа Синий', '', 'Чехол книжка Magnei для Xiaomi Redmi 7 с магнитом', '', 'Чехол книга для Xiaomi Redmi Note 7 с эко кожи с подставкой книжка на телефон сяоми редми нот 7 синяя STN', '', 'Чехол книжка Premium кожаный Xiaomi Redmi Note 7 Pro Черный', '', 'Кожаный чехол (книжка) Classy для Xiaomi Redmi Note 7 / Note 7 Pro / Note 7s (Черный)', '', 'Чехол для Xiaomi Redmi Note 7 / 7Pro черный матовый soft touch', '', 'Чехол книжка 360 Art для Xiaomi Redmi Note 7 синий', '', 'Чехол-книжка DK силикон кожа для Xiaomi Redmi Note 7 Pro (gold)', '', 'Чехол книжка противоударный магнитный КОЖАНЫЙ влагостойкий для XIAOMI Redmi NOTE 7 / 7 pro \"VERSANO\"', '', 'Чехол Nillkin Matte для Xiaomi Redmi Note 7 Pro', '', 'Чохол-книжка для телефону Xiaomi Redmi Note 7 NANCY Black (4you)', '', 'Чехол-книжка DK силикон кожа для Xiaomi Redmi Note 7 Pro (gold)', '', 'Чехол книжка Level для Xiaomi Redmi Note 7 Экокожа Золотой', '', 'Чехол книжка кожанный Xiaomi Redmi Note 7 / Note 7 Pro (Черный)', '', 'Чехол книжка для Xiaomi (Ксиоми)Redmi Note 7 / Note 7 Pro / Note 7s \"Classic\"с визитницей', '', 'Чохол-книжка ColorWay Magnet Book для ZTE Blade A71 Black (ZT-CMBZBA71-BK). Чохли для мобільних телефонів', '', 'Чехол книжка противоударный магнитный КОЖАНЫЙ влагостойкий для XIAOMI Redmi NOTE 7 / 7 pro \"GOLDAX\"', '', 'Чехол-книжка для телефона Xiaomi Redmi Note 7 Mia Black (4you)', '', 'Чехол книжка Idewei для Xiaomi Redmi Note 7 / Note 7 Pro (с застежкой)', '', 'Кожаный чехол (книжка) Art Case с визитницей для Xiaomi Redmi Note 7 / Note 7 Pro / Note 7s', '']\n",
      "Zhytomyr samsung s8 чехол книжка\n",
      "['KENZI', 'ВЧехле', 'mocolo.com.ua', 'WOMUX', 'mocolo.org.ua', 'Zakazuy', 'ITFridge', 'KENZI', 'Labaks', 'Prom', 'iBAG Store', 'itsell', 'WOMUX', 'Joom web', 'ВЧехле', 'ROZETKA', 'Eldorado', 'Mobile-Case', '0629store.com....', 'WOMUX', 'chekhol.com.ua', 'LA Mobile', 'bestcover.com.ua', 'Steklon.com.ua']\n",
      "['Чехол книжка для Samsung S8 - Flip Magnetic Case (чёрный). Защитный магнитный чехол для телефона', '', 'Кожаный чехол (книжка) Art Case с визитницей для Samsung G950 Galaxy S8', '', 'Чехол Clear View Standing Cover для Samsung Galaxy S8', '', 'Samsung - Чехол книжка противоударный магнитный КОЖАНЫЙ влагостойкий для Samsung S8 G950 \"VERSANO\" No8 - Черный', '', 'Чехол Clear View Standing Cover для Samsung Galaxy S8', '', 'Кожаный чехол-книжка Art Case с визитницей для Samsung Galaxy S8 (G950) - Черный', '', 'Чехол книжка Level для Samsung Galaxy S8 G950 Экокожа Золотой', '', 'Чехол книжка для Samsung S8 - Flip Magnetic Case (марсала)', '', 'Чехол книжка Premium кожаный Samsung G950 Galaxy S8 Черный', '', 'Чехол книжка Caseme с магнитом для Samsung Galaxy S8 зеленый бумажник', '', 'Кожаный Чехол книжка с визитницей для Samsung G950 Galaxy S8 (Фиолетовый)', '', 'Кожаный чехол (книжка) Art Case с визитницей для Samsung G950 Galaxy S8 (Черный)', '', 'Samsung - Чехол книжка из натуральной кожи магнитный противоударный для Samsung S8 G950 \"BOTTEGA\" Коричневый - No1', '', 'Розкіш шкіряний чохол для Samsung Galaxy S10 S20 Ultra S9 s8 Plus S10E A70 A71 A50 A51 магнітні пластинчасті кришки для iPhone Huawei честь Xiaomi Red', '', 'Чехол-книжка Dux Ducis с карманом для визиток для Samsung G950 Galaxy S8', '', 'Чохол-книжка ColorWay Elegant Book для Xiaomi Poco M4 Pro 5G Black (CW-CEBXPM4P5-BK). Чохли для мобільних телефонів', '', 'Чехол-книжка GELIUS New Air Book для Samsung Galaxy A12 Red (83218)', '', 'Чехол-книжка Litchie Wallet для Samsung G950 Galaxy S8 White', '', 'Чехол G-Case для Samsung S8 (G950) книжка Ranger Series магнитная Black', '', 'Samsung - Чехол книжка магнитный противоударный для Samsung S8 G950 \"HLT\" Черный', '', 'Чехол-книжка CaseMe-013 Multifunctional на Samsung Galaxy S22 Plus - кофейный', '', 'Чехол книжка Premium для Samsung Galaxy S8 (G950) черный', '', 'Чехол-книжка Animal Wallet для Samsung Galaxy S8 Cat', '', 'Samsung - Чехол книжка кожанный Samsung S8 (Черный)', '']\n",
      "Uzhhorod redmi 9 чехол книжка\n",
      "['ВЧехле', 'Eldorado', 'ROZETKA', 'Stardroid.UA', 'SmartOk', 'KENZI', 'oneklik', 'ВЧехле', 'Nillkincase.com...', 'ITFridge', 'Oneaccs', 'Zorrov', 'Xiaomi-buy.co...', 'Mobile-Case', 'MobiFun Store', 'KENZI', 'magazin-shop', 'АЛЛО', 'ВЧехле', 'oneklik', 'ROZETKA', 'Саме тут!', 'WOMUX', 'itsell']\n",
      "['Кожаный чехол (книжка) Classy для Xiaomi Redmi 9', '', 'Чохол-книжка DENGOS для Xiaomi Redmi 9 Black (DG-SL-BK-266)', '', 'Чохол-книжка ColorWay Elegant Book для Xiaomi Poco M4 Pro 5G Black (CW-CEBXPM4P5-BK). Чохли для мобільних телефонів', '', 'Чехол (книжка) BOSO для Xiaomi Redmi 9 - Black', '', 'Чехол G-Case Ranger Series Xiaomi Redmi 9 Black', '', 'Чехол книжка для Xiaomi Redmi 9 - Flip Magnetic Case (чёрный). Защитный магнитный чехол для телефона', '', 'Чехол-Книжка с карманами для карт для Xiaomi Redmi 9 цвет Черный', '', 'Кожаный чехол (книжка) Art Case с визитницей для Xiaomi Redmi Note 9 5G', '', 'Шкіряний чохол книжка GETMAN Gallant (PU) для Xiaomi Redmi 9, Зеленый', '', 'Чехол книжка Level для Xiaomi Redmi 9 Экокожа Зеленый', '', 'Чехол книга для Xiaomi Redmi 9 с эко кожи с подставкой магнитом книжка на телефон сяоми редми 9 зеленая STN', '', 'Чехол для Xiaomi Redmi 9 черный матовый soft touch', '', 'Чохол-книжка для Xiaomi Redmi 9 - Червоний', '', 'Чехол-книжка Litchie Wallet для Xiaomi Redmi 9 Red', '', 'Чехол-книга Book Case Xiaomi Redmi 9 Черная', '', 'Чехол книжка для Xiaomi Redmi 9 - Flip Magnetic Case (марсала)', '', 'Чехол книжка Magnei для Xiaomi Redmi 9 с магнитом', '', 'Кожаный чехол (книжка) Classy для Xiaomi Redmi 9 Чехлы для смартфонов', '', 'Кожаный чехол книжка GETMAN Gallant (PU) для Xiaomi Redmi Note 9 5G', '', 'Чехол-Книжка iMeeke для Xiaomi Redmi 9 цвет Серый', '', 'Чохол-книжка ColorWay Elegant Book для Xiaomi Redmi Note 9 Pro/Note 9S Black (CW-CEBXRN9P-BK). Чохли для мобільних телефонів', '', 'Чехол-книжка Business Leather для Xiaomi Redmi 9 Синий', '', 'Чехол книжка противоударный магнитный КОЖАНЫЙ влагостойкий для XIAOMI Redmi 9 \"GOLDAX\" Бордовый', '', 'Кожаный чехол книжка GETMAN Cubic (PU) для Xiaomi Redmi 9 (Коричневый)', '']\n"
     ]
    },
    {
     "name": "stdout",
     "output_type": "stream",
     "text": [
      "Zaporizhzhia чехол книжка для xiaomi mi 9 se\n",
      "['ROZETKA', 'e-star.ua', 'Labaks', 'Top-best.ua', '0629store.com....', 'magazin-shop', 'ВЧехле', 'Mobile-Case', 'Steklon.com.ua', 'bestcover.com.ua', 'Oneaccs', 'Zorrov', 'skl.com.ua', 'WOMUX', 'cherdak-store.c...', 'Eldorado', 'Top-best.ua', 'ROZETKA', 'Cherdak-store', 'Top-best.ua', 'Oneaccs', '0629store.com....', 'Labaks', 'ROZETKA', 'WOMUX', 'Mobile-Case', 'kili', 'Kiber Panda', 'ВЧехле']\n",
      "['Чохол Idewei для Xiaomi Mi 9 SE книжка шкіра PU чорний. Чохли для мобільних телефонів', '', 'Чехол книжка для Xiaomi Mi9 SE Mofi Crystal Black (Черный)', '', 'Чехол книжка Premium кожаный Xiaomi Mi 9 SE Черный', '', 'Чехол книжка для Xiaomi Mi9 SE Mofi Vintage Blue (Синий)', '', 'Чехол GC для Xiaomi Mi 9 SE книжка магнитная Grey', '', 'Чехол книжка Idewei для Xiaomi Mi 9 SE с застежкой', '', 'Чехол Nillkin Matte для Xiaomi Mi 9', '', 'Чехол-книжка Litchie Wallet для Xiaomi Mi 9 SE Белый', '', 'Чехол книжка кожанный Xiaomi Mi 9 SE (Черный)', '', 'Чехол-книжка Litchie Wallet для Xiaomi Mi 9 SE Белый', '', 'Чехол-книга для Xiaomi Mi 9 SE книжка с подставкой магнитом на телефон сяоми ми 9 се серая STN', '', 'Чехол для Xiaomi Mi 9 SE черный матовый soft touch', '', 'Чехол-книжка Xiaomi Mi 9 SE – Fashion', '', 'Чехол книжка противоударный магнитный КОЖАНЫЙ влагостойкий для Xiaomi Mi 9 Lite \"GOLDAX\"', '', 'Чехол-книжка DK Clear View Standing Cover для Xiaomi Mi 9 SE (black)', '', 'Чехол-книжка Gelius Air Book для Xiaomi POCO M4 Pro Black (90125)', '', \"Чехол книжка для Xiaomi Mi9 SE Anomaly K'try Premium Dark Brown (Темно Коричневый)\", '', 'Чохол-книжка ArmorStandart G-Case для Xiaomi Mi 9 SE Black (ARM54594). Чохли для мобільних телефонів', '', 'Чехол-книжка DK Clear View Standing Cover для Xiaomi Mi 9 SE (black)', '', 'Чехол книжка для Xiaomi Mi9 SE Mofi Vintage Black (Черный)', '', 'Чехол книга для Xiaomi Mi9 SE книжка с подставкой магнитом на телефон сяоми ми9 се бордовая STN', '', 'Чехол G-Case для Xiaomi Mi 9 SE книжка Ranger Series магнитная Blue', '', 'Чехол книжка Premium кожаный Xiaomi Mi 9 SE Бордовый', '', 'Чохол-книжка ColorWay Elegant Book для Xiaomi Poco M4 Pro 5G Black (CW-CEBXPM4P5-BK). Чохли для мобільних телефонів', '', 'Чехол книжка противоударный магнитный КОЖАНЫЙ влагостойкий для Xiaomi Mi 9 Lite \"VERSANO\"', '', 'Чехол-книжка Premium Wallet для Xiaomi Mi 9 SE Black', '', 'Чехол книжка Premium Xiaomi Mi 9 SE', '', 'Чехол-книжка Level for Xiaomi Mi 9 Black', '', 'Кожаный чехол (книжка) Art Case с визитницей для Xiaomi Redmi Note 9 5G', '']\n",
      "Ivano-Frankivsk mi 9 чехол книжка\n",
      "['ROZETKA', 'ITFridge', 'ВЧехле', 'Kiber Panda', 'KENZI', 'VEST', 'WOMUX', 'Nillkincase.com...', 'Labaks', 'ROZETKA', 'Zakazuy', 'Саме тут!', 'ROZETKA', 'Steklon.com.ua', 'KENZI', 'skl.com.ua', 'Eldorado', 'Zorrov', 'WOMUX', 'cherdak-store.c...', 'Top-best.ua', 'Mobile-Case', 'ROZETKA', 'ITFridge']\n",
      "['Чохол-книжка ArmorStandart 40Y Case для Xiaomi Mi 9t/K20 Dark Blue (ARM55340). Чохли для мобільних телефонів', '', 'Чехол книжка Level для Xiaomi Mi 9 Экокожа Черный', '', 'Чехол Nillkin Matte для Xiaomi Mi 9', '', 'Чехол-книжка Level for Xiaomi Mi 9 Black', '', 'Чехол книжка для Xiaomi Redmi Mi 9 - Flip Magnetic Case (чёрный). Защитный магнитный чехол для телефона', '', 'Чехол книжка зеркало Clear View для Xiaomi MI 9', '', 'Чехол книжка противоударный магнитный КОЖАНЫЙ влагостойкий для Xiaomi Mi 9 \"VERSANO\"', '', 'Чохол-книжка Clear View Standing Cover для Xiaomi Redmi 9, Черный', '', 'Чехол книжка Premium кожаный Xiaomi Mi 9 Черный', '', 'Чохол-книжка ArmorStandart G-Case для Xiaomi Mi 9 SE Black (ARM54594). Чохли для мобільних телефонів', '', 'Чехол-книжка Black TPU Magnet для Xiaomi Mi 9 - Pink', '', 'Чехол-книжка кожа для Xiaomi Mi 9 Зеленый', '', 'Чохол-книжка ColorWay Elegant Book для Xiaomi Poco M4 Pro 5G Black (CW-CEBXPM4P5-BK). Чохли для мобільних телефонів', '', 'Чехол книжка кожанный Xiaomi Mi 9 (Черный)', '', 'Чехол книжка для Xiaomi Redmi Mi 9 - Flip Magnetic Case (марсала)', '', 'Чехол-книжка Xiaomi Mi 9 – Fashion', '', 'Чохол COLORWAY Elegant Book для Xiaomi Redmi 9T Black (CW-CEBXR9T-BK)', '', 'Чехол для Xiaomi Mi 9 черный матовый soft touch', '', 'Чехол книжка из натуральной кожи магнитный противоударный для Xiaomi Mi 9 Lite \"BOTTEGA\"', '', 'Чехол-книжка DK Clear View Standing Cover для Xiaomi Mi 9 Lite / Mi CC9 (black)', '', \"Чехол книжка для Xiaomi Mi9 SE Anomaly K'try Premium Black (Черный)\", '', 'Чехол-книжка Litchie Wallet для Xiaomi Mi 9 Pro / Mi 9 Pro 5G Black', '', 'Чохол-книжка ColorWay Elegant Book для Xiaomi Redmi Note 9 Pro/Note 9S Black (CW-CEBXRN9P-BK). Чохли для мобільних телефонів', '', 'Чехол книжка Level для Xiaomi Mi 9 Lite Экокожа Бордовый', '']\n",
      "Bila Tserkva чехол книжка на ми 9т\n",
      "['ROZETKA', 'Oneaccs', 'ВЧехле', 'bestcover.com.ua', 'ITFridge', 'WOMUX', 'Mobile-Case', 'ROZETKA', 'KENZI', 'Labaks', 'Kiber Panda', 'e-star.ua', 'chekhol.com.ua', 'ROZETKA', 'WOMUX', 'ВЧехле', 'WOMUX', 'mocolo.com.ua', 'ITFridge', 'magazin-shop', 'WOMUX', 'Steklon.com.ua', 'WOMUX', 'Mobile-Case']\n",
      "['Чохол-книжка ArmorStandart 40Y Case для Xiaomi Mi 9t/K20 Dark Blue (ARM55340). Чохли для мобільних телефонів', '', 'Чехол книга для Xiaomi Mi 9T / Mi 9T Pro с эко кожи с подставкой магнитом книжка на ксяоми ми9т про черная STN', '', 'Кожаный чехол (книжка) Art Case с визитницей для Xiaomi Mi 9T', '', 'Чехол-книжка Litchie Wallet для Xiaomi Mi 9T / Mi 9T Pro / Redmi K20 / K20 Pro Black', '', 'Чехол книжка Level для Xiaomi Mi 9T / Redmi K20 Экокожа Синий', '', 'Чехол книжка из натуральной кожи магнитный противоударный для Xiaomi Mi 9T / 9T Pro \"BOTTEGA\"', '', 'Чехол-книжка Litchie Wallet для Xiaomi Mi 9T / Mi 9T Pro / Redmi K20 / K20 Pro Black', '', 'Чохол-книжка BeCover Exclusive для Xiaomi Mi 9T/9T Pro/Redmi K20/K20 Pro Black (BC_703955). Чохли для мобільних телефонів', '', 'Чехол книжка для Xiaomi Redmi Mi 9T - Flip Magnetic Case (марсала)', '', 'Чехол книжка Premium кожаный Xiaomi Mi 9T, 9T Pro Черный', '', 'Чехол книжка Premium для Xiaomi Mi 9T / Redmi K20 черный', '', 'Чехол книжка для Xiaomi Mi 9T Pro Dux Ducis Kado Blue (Синий)', '', 'Чехол-книжка CaseMe-013 Multifunctional на Samsung Galaxy S22 Plus - кофейный', '', 'Чохол-книжка ColorWay Elegant Book для Xiaomi Poco M4 Pro 5G Black (CW-CEBXPM4P5-BK). Чохли для мобільних телефонів', '', 'Чехол книжка магнитный противоударный для Xiaomi Mi 9T / 9T Pro \"HLT\"', '', 'Чехол Nillkin Matte для Xiaomi Mi 9T', '', 'Чехол книжка противоударный магнитный для Xiaomi Mi 9T / 9T Pro \"PRIVILEGE\"', '', 'Бизнес чехол бампер GENEROUS для Xiaomi Mi 9T / Mi 9T Pro / Redmi K20 / K20 Pro из стекла и искусственной кожи', '', 'Чехол книжка Level для Xiaomi Mi 9T / Redmi K20 Экокожа Красный', '', 'Чехол книжка Keyunfei для Xiaomi Redmi 9T с магнитом', '', 'Чехол книжка противоударный магнитный КОЖАНЫЙ влагостойкий для Xiaomi Mi 9T / 9T Pro \"GOLDAX\"', '', 'Чехол книжка кожанный Xiaomi Mi 9T (Черный)', '', 'Чехол книжка противоударный магнитный для Xiaomi Mi 9T / 9T Pro \"PRIVILEGE\"', '', 'Чехол-книжка Litchie Wallet для Xiaomi Mi 9T / Mi 9T Pro / Redmi K20 / K20 Pro Blue', '']\n",
      "Kyiv redmi 9 чехол книжка\n",
      "['ВЧехле', 'Eldorado', 'Stardroid.UA', 'SmartOk', 'oneklik', 'ROZETKA', 'KENZI', 'AKS.ua', 'Zorrov', 'ITFridge', 'ВЧехле', 'Nillkincase.com...', 'Oneaccs', 'MobiFun Store', 'magazin-shop', 'Xiaomi-buy.co...', 'oneklik', 'Mobile-Case', 'ROZETKA', 'KENZI', 'АЛЛО', 'Labaks', 'ВЧехле', 'Nillkincase.com...']\n",
      "['Кожаный чехол (книжка) Classy для Xiaomi Redmi 9', '', 'Чохол-книжка DENGOS для Xiaomi Redmi 9 Black (DG-SL-BK-266)', '', 'Чехол (книжка) BOSO для Xiaomi Redmi 9 - Black', '', 'Чехол G-Case Ranger Series Xiaomi Redmi 9 Black', '', 'Чехол-Книжка с карманами для карт для Xiaomi Redmi 9 цвет Черный', '', 'Чохол-книжка ColorWay Elegant Book для Xiaomi Poco M4 Pro 5G Black (CW-CEBXPM4P5-BK). Чохли для мобільних телефонів', '', 'Чехол книжка для Xiaomi Redmi 9 - Flip Magnetic Case (чёрный). Защитный магнитный чехол для телефона', '', 'Чехол Gelius Book Cover Leather Xiaomi Redmi 9 Blue', '', 'Чехол для Xiaomi Redmi 9 черный матовый soft touch', '', 'Чехол книжка Level для Xiaomi Redmi 9 Экокожа Зеленый', '', 'Кожаный чехол (книжка) Art Case с визитницей для Xiaomi Redmi Note 9 5G', '', 'Чохол-книжка Clear View Standing Cover для Xiaomi Redmi 9, Черный', '', 'Чехол книга для Xiaomi Redmi 9 с эко кожи с подставкой магнитом книжка на телефон сяоми редми 9 зеленая STN', '', 'Чехол-книга Book Case Xiaomi Redmi 9 Черная', '', 'Чехол книжка Magnei для Xiaomi Redmi 9 с магнитом', '', 'Чохол-книжка для Xiaomi Redmi 9 - Червоний', '', 'Чехол-Книжка iMeeke для Xiaomi Redmi 9 цвет Серый', '', 'Чехол-книжка Litchie Wallet для Xiaomi Redmi 9 Red', '', 'Чохол-книжка ColorWay Elegant Book для Xiaomi Redmi Note 9 Pro/Note 9S Black (CW-CEBXRN9P-BK). Чохли для мобільних телефонів', '', 'Чехол книжка для Xiaomi Redmi 9 - Flip Magnetic Case (марсала)', '', 'Кожаный чехол (книжка) Classy для Xiaomi Redmi 9 Чехлы для смартфонов', '', 'Чехол книжка Premium кожаный Xiaomi Redmi 9 Черный', '', 'Кожаный чехол книжка GETMAN Gallant (PU) для Xiaomi Redmi Note 9 5G', '', 'Шкіряний чохол книжка GETMAN Gallant (PU) для Xiaomi Redmi 9, Черный', '']\n"
     ]
    },
    {
     "name": "stdout",
     "output_type": "stream",
     "text": [
      "Kropyvnytskyi samsung galaxy j7 чехол книжка\n",
      "['ВЧехле', 'KENZI', 'Eldorado', 'ROZETKA', 'ITFridge', 'magazin-shop', 'AKS.ua', 'Labaks', 'ROZETKA', 'Prom', 'KENZI', 'ROZETKA', 'Oneaccs', 'Zorrov', 'WOMUX', 'Cheholl.com', 'Vseplus.com', 'ROZETKA', 'ITFridge', 'Eldorado', 'ROZETKA', 'ROZETKA', 'ITFridge', 'Prom']\n",
      "['Кожаный чехол (книжка) Classy для Samsung J710F Galaxy J7 (2016)', '', 'Чехол книжка для Samsung J7 (2017) - Flip Magnetic Case (чёрный). Защитный магнитный чехол для телефона', '', 'Чохол-книжка GELIUS FB Leather для Samsung Galaxy A032 (A03 Core) Black (89746)', '', 'Чехол книжка Fashion Case для Samsung Galaxy J7 2015 (j700) Черный. Чехлы для мобильных телефонов', '', 'Чехол книжка Level для Samsung Galaxy J7 2017 J730 Экокожа Зеленый', '', 'Чехол книжка Magnei для Samsung Galaxy J7 Neo (J701), J7 2015 (J700) с магнитом', '', 'Чехол Level Samsung J730 Galaxy J7 2017 Black', '', 'Чехол книжка Premium кожаный Samsung Galaxy J7 (2017) Черный', '', 'Чохол-книжка ColorWay Elegant Book для Xiaomi Poco M4 Pro 5G Black (CW-CEBXPM4P5-BK). Чохли для мобільних телефонів', '', 'Чехол-книжка Samsung J7/710', '', 'Чехол книжка для Samsung J7 (2017) - Flip Magnetic Case (марсала)', '', 'Чохол-книжка ColorWay Elegant Book для Samsung Galaxy A20s Black (CW-CEBSGA207-BK). Чохли для мобільних телефонів', '', 'Чехол книга для Samsung J7 2016 J710 с эко кожи с подставкой книжка на телефон самсунг дж7 дж710 черная STN', '', 'Чехол для Samsung Galaxy J7 2016 черный матовый soft touch', '', 'Чехол книжка противоударный магнитный КОЖАНЫЙ влагостойкий для Samsung J7 (2016) J710 \"VERSANO\" No4 - Светло-коричневый', '', 'Чехол книжка Nillkin View Cover для Samsung Galaxy J7 Prime G610', '', 'Чехол (книжка) Samsung J730 Galaxy J7, iMax, черный', '', 'Чехол-книжка Elegant на Samsung Galaxy J7 J710 2016 черный. Чехлы для мобильных телефонов', '', 'Чехол книжка Level для Samsung Galaxy J7 2017 J730 Экокожа Черный', '', 'Чехол-книжка GELIUS New Air Book для Samsung Galaxy A12 Red (83218)', '', 'Чехол книжка Fashion Case для Samsung Galaxy J7 2017 (j730) Марсала. Чехлы для мобильных телефонов', '', 'Чохол IETP для Samsung Galaxy J7 Neo / J701 книжка шкіра PU коричневий Без бренду. Чохли для мобільних телефонів', '', 'Чехол книжка Bring Joy на Samsung Galaxy J7 2016 J710 Черный', '', 'Чехол-книжка Samsung J7/710', '']\n",
      "Rivne чехол книжка на iphone 6s\n",
      "['KENZI', 'ITFridge', 'ROZETKA', 'Mobile-Case', '0629store.com....', 'bestcover.com.ua', 'e-star.ua', 'WOMUX', 'Steklon.com.ua', 'Oneaccs', 'Для дома', 'skl.com.ua', 'ВЧехле', 'ROZETKA', 'Zorrov', 'Prom', 'Oneaccs', 'WOMUX', 'ROZETKA', 'prodavaki', 'KENZI', 'Oneaccs', 'WOMUX', 'ВЧехле']\n",
      "['Чехол книжка для iPhone 6/6s - Flip Magnetic Case (чёрный). Защитный магнитный чехол для телефона', '', 'Чехол книжка Level для iPhone 6 / 6s Экокожа Зеленый', '', 'Чехол IETP для iPhone 6 / 6s книжка кожа PU коричневый. Чехлы для мобильных телефонов', '', 'Чехол-книжка Litchie Wallet для Apple iPhone 6 / iPhone 6S Черный', '', 'Чехол G-Case для Apple Iphone 6 / 6S книжка Ranger Series магнитная Black', '', 'Чехол-книжка Litchie Wallet для Apple iPhone 6 / iPhone 6S Черный', '', 'Чехол книжка для iPhone 6 Plus | 6S Plus Remax Window Book Black / White (Черный / Белый)', '', 'Чехол книжка магнитный противоударный для Iphone 6 / 6s \"HLT\" Черный', '', 'Чехол книжка кожаный Apple iPhone 6/6S (Черный)', '', 'Чехол книга для iPhone 6s 6 с эко кожи с подставкой магнитом книжка на телефон айфон 6с золотая STN', '', 'Чехол-книжка для телефона Iphone 5/5s LIDL 13 х 6 см', '', 'Чехол-книжка iPhone 6/6S – Fashion', '', 'Кожаный чехол (книжка) Art Case с визитницей для TECNO Spark 6', '', 'Чехол IETP для iPhone 6 Plus / 6s Plus книжка кожа PU черный. Чехлы для мобильных телефонов', '', 'Чехол для Apple iPhone 6 / 6S черный матовый soft touch', '', 'Чехол Clover для IPhone 6 Plus / 6s Plus Книжка кожа PU фиолетовый', '', 'Чехол книга для iPhone 6s 6 с эко кожи с магнитом подставкой книжка на телефон айфон 6с серая STN', '', 'Чехол книжка противоударный магнитный КОЖАНЫЙ влагостойкий для Iphone 6 / 6s \"VERSANO\" No4 - Светло-коричневый', '', 'Чехол Clover для iPhone 6 / 6s Книжка кожа PU голубой. Чехлы для мобильных телефонов', '', 'Чехол Книжка iPhone 6 / 6s', '', 'Чехол книжка для iPhone 6/6s - Flip Magnetic Case (красный). Защитный магнитный чехол для телефона', '', 'Чехол-книга для Apple iPhone 6 / 6s книжка с подставкой магнитом на телефон айфон 6 6с розовое золото STN', '', 'Чехол книжка противоударный магнитный КОЖАНЫЙ влагостойкий для Iphone 6 / 6s \"VERSANO\" No8 - Черный', '', \"Бронированный противоударный TPU+PC чехол Immortal для iPhone 6s (4.7'')\", '']\n",
      "Lviv samsung galaxy a02 чехол книжка\n",
      "['ВЧехле', 'MobiFun Store', 'ITFridge', 'ROZETKA', 'Zakazuy', 'oneklik', 'KENZI', 'kili', 'itsell', '4you', 'ВЧехле', 'ITFridge', 'Top-best.ua', 'Mobile-Case', 'Zakazuy', 'e-star.ua', 'Labaks', 'bestcover.com.ua', 'Steklon.com.ua', 'ROZETKA', 'ITFridge', 'Eldorado', 'VEST', 'chekhol.com.ua']\n",
      "['Кожаный чехол (книжка) Art Case с визитницей для Samsung Galaxy A02', '', 'Samsung - Чехол-книжка Samsung Galaxy A02 (2021) / A022 Бордовая', '', 'Чехол книжка Level для Samsung Galaxy A02 A022 Экокожа Бордовый', '', 'Чохол-книжка DENGOS для Samsung Galaxy A02 (A022) Black (DG-SL-BK-280). Чохли для мобільних телефонів', '', 'Кожаный чехол-книжка Art Case с визитницей для Samsung Galaxy A02 - Серый', '', 'Чехол-Книжка с карманами для карт для Samsung Galaxy A02 цвет Черный', '', 'Чехол книжка для Samsung A02 - Flip Magnetic Case (марсала). Защитный магнитный чехол для телефона', '', 'Чехол книжка Level для Samsung A02 (A022) Blue', '', 'Кожаный чехол (книжка) Art Case с визитницей для Samsung Galaxy A02', '', 'Чохол-книжка для телефону Samsung A02 / A022 NANCY Green (4you)', '', 'Чехол-книжка Dux Ducis с карманом для визиток для Samsung Galaxy A02', '', 'Чехол книжка Level для Samsung Galaxy A02 A022 Экокожа Розово золотой', '', 'Чехол книжка для Samsung Galaxy A02 Anomaly Leather Book Green (Зеленый)', '', 'Чехол-книжка Litchie Wallet для Samsung Galaxy A02 Black', '', 'Кожаный чехол-книжка Art Case с визитницей для Samsung Galaxy A02 - Синий', '', 'Чехол книжка для Samsung Galaxy A02 Anomaly Smart View Flip Orange (Оранжевый)', '', 'Чехол книжка Premium кожаный Samsung Galaxy A02 Черный', '', 'Чехол-книжка Litchie Wallet для Samsung Galaxy A02 Black', '', 'Samsung - Чехол книжка кожаный Samsung Galaxy A02 (Черный)', '', 'Чехол-книжка Premium для Samsung A022 Galaxy A02 Черная. Чехлы для мобильных телефонов', '', 'Чехол книжка Level для Samsung Galaxy A02 A022 Экокожа Зеленый', '', 'Чехол-книжка GELIUS Air Book для Samsung Galaxy A02 Black (83507)', '', 'Кожаный чехол-книжка Twist для Samsung Galaxy A02 (A022)', '', 'Чехол-книжка KHAZNEH Retro Texture на Samsung Galaxy S22 Plus 5G - синий', '']\n",
      "Mykolaiv чехол книжка на самсунг j6\n",
      "['Zorrov', 'KENZI', 'СМА', 'Oneaccs', 'ITFridge', 'itsell', 'WOMUX', 'Labaks', 'e-star.ua', 'ROZETKA', 'СМА', 'Mobile-Case', 'ITFridge', '0629store.com....', 'galaxymarket', 'Prom', 'bestcover.com.ua', 'Oneaccs', 'ITFridge', 'Steklon.com.ua', 'WOMUX', 'ВЧехле', 'Labaks', 'MobiFun Store']\n",
      "['Чехол для Samsung Galaxy J6 2018 черный матовый soft touch', '', 'Чехол книжка для Samsung J6 - Flip Magnetic Case (марсала)', '', 'Чохол книжка Premium Gelius for Samsung J610 Galaxy J6 Plus (2018) Gray', '', 'Чехол книга для Samsung J6 2018 J600 с эко кожи с подставкой книжка на телефон самсунг дж6 дж600 черная STN', '', 'Чехол книжка Level для Samsung Galaxy J6 Plus J610 Экокожа Зеленый', '', 'Кожаный чехол (книжка) Art Case с визитницей для Samsung J600F Galaxy J6 (2018)', '', 'Чехол книжка противоударный магнитный КОЖАНЫЙ влагостойкий для Samsung J6 (2018) J600 \"VERSANO\" No4 - Светло-коричневый', '', 'Чехол книжка Premium кожаный Samsung Galaxy J6 (2018) Бордовый', '', 'Чехол книжка для Samsung Galaxy J6 Prime Nillkin Sparkle Gold (Золотой)', '', 'Чохол книжка Fashion Case для Samsung Galaxy J6 2018 Зелений. Чохли для мобільних телефонів', '', 'Чохол книжка Premium for Samsung J610 Galaxy J6 Plus (2018) Gold', '', 'Чехол-книжка Litchie Wallet для Samsung J610 Galaxy J6 Plus Черный', '', 'Чехол книжка Level для Samsung Galaxy J6 J600 Экокожа Золотой', '', 'Чехол G-Case для Samsung J610 (J6 Plus 2018) книжка Ranger Series магнитная Black', '', 'Чохол книжка для Samsung Galaxy J6 Prime Nillkin Sparkle Gold (Золотий)', '', 'Кожаный чехол книжка VIP для Samsung Galaxy J6 J600 2018 (3 цвета) черный', '', 'Чехол-книжка Animal Wallet для Samsung J600 Galaxy J6 2018 Cat', '', 'Чехол книга для Samsung J6 2018 J600 с эко кожи с подставкой книжка на телефон самсунг дж6 дж600 бордовая STN', '', 'Чохол книжка Level для Samsung Galaxy J6 Plus J610 Екошкіра Бордовий', '', 'Чехол книжка кожанный Samsung Galaxy J6 Plus (Черный)', '', 'Чехол книжка противоударный магнитный КОЖАНЫЙ влагостойкий для Samsung J6 (2018) J600 \"VERSANO\" No8 - Черный', '', 'Кожаный чехол книжка GETMAN Gallant (PU) для Samsung Galaxy A02s', '', 'Чехол книжка Premium кожаный Samsung Galaxy J6 Plus (2018) Черный', '', 'Черный силиконовый чехол Samsung Galaxy J6 (2018)', '']\n"
     ]
    },
    {
     "name": "stdout",
     "output_type": "stream",
     "text": [
      "Odessa чехол книжка на xiaomi redmi note 7\n",
      "['ВЧехле', 'ROZETKA', 'ITFridge', 'KENZI', 'Zorrov', 'ВЧехле', 'WOMUX', 'ITFridge', 'magazin-shop', '4you', 'ВЧехле', 'oneklik', 'Zakazuy', 'Prom', 'itsell', 'ROZETKA', 'Labaks', 'Oneaccs', 'Cherdak-store', 'WOMUX', 'ROZETKA', 'АЛЛО', 'ВЧехле', 'Посуд Шеф']\n",
      "['Шкіряний чохол (книжка) Classy для Xiaomi Redmi Note 7', '', 'Чохол-книжка ColorWay Elegant Book для Xiaomi Poco M4 Pro 5G Black (CW-CEBXPM4P5-BK). Чохли для мобільних телефонів', '', 'Чехол книжка Level для Xiaomi Redmi Note 7 Экокожа Бордовый', '', 'Чехол книжка для Xiaomi Redmi Note 7 - Flip Magnetic Case (марсала)', '', 'Чехол для Xiaomi Redmi Note 7 / 7Pro черный матовый soft touch', '', 'Кожаный чехол (книжка) Art Case с визитницей для Xiaomi Redmi Note 7 Pro', '', 'Чехол книжка противоударный магнитный КОЖАНЫЙ влагостойкий для XIAOMI Redmi NOTE 7 / 7 pro \"GOLDAX\"', '', 'Чехол книжка Level для Xiaomi Redmi Note 7 Экокожа Синий', '', 'Чехол книжка Magnei для Xiaomi Redmi 7 с магнитом', '', 'Чехол-книжка для телефона Xiaomi Redmi Note 7 NANCY Black (4you)', '', 'Чехол Nillkin Matte для Xiaomi Redmi Note 7 Pro', '', 'Чехол-Книжка с карманами для карт для Xiaomi Redmi Note 8T цвет Черный', '', 'Кожаный чехол-книжка 360 с визитницей для Xiaomi Redmi Note 7 / 7 Pro (Черный)', '', 'Чехол книжка для Xiaomi (Ксиоми)Redmi Note 7 / Note 7 Pro / Note 7s \"Classic\"с визитницей', '', 'Кожаный чехол (книжка) Classy для Xiaomi Redmi Note 7 / Note 7 Pro / Note 7s', '', 'Чехол-книжка Logarm Protective для Xiaomi Redmi 7 Черный Без бренда. Чехлы для мобильных телефонов', '', 'Чехол книжка Premium кожаный Xiaomi Redmi Note 7 Pro Черный', '', 'Чехол книга для Xiaomi Redmi Note 7 с эко кожи с подставкой книжка на телефон сяоми редми нот 7 синяя STN', '', 'Чехол-книжка DK силикон кожа для Xiaomi Redmi Note 7 Pro (gold)', '', 'Чехол книжка противоударный магнитный КОЖАНЫЙ влагостойкий для XIAOMI Redmi NOTE 7 / 7 pro \"VERSANO\"', '', 'Чехол Croc для Xiaomi Redmi Note 7 / Note 7 Pro книжка кожа PU коричневый. Чехлы для мобильных телефонов', '', 'Чехол-книжка Standart Xiaomi Redmi Note 9/Redmi 10x Black Чехлы для смартфонов', '', 'Кожаный чехол (книжка) Art Case с визитницей для Xiaomi Redmi Note 9 5G', '', 'Чехол-книжка TOTO Book Rounded Leather Case Xiaomi Redmi 7 Navy Blue', '']\n",
      "Kremenchuk huawei y6 2019 чехол книжка\n",
      "['Oneaccs', 'ROZETKA', 'WOMUX', 'Oneaccs', 'ROZETKA', 'ВЧехле', '0629store.com....', 'Mobile-Case', 'Labaks', 'Zorrov', 'WOMUX', 'bestcover.com.ua', 'VSMarket', 'WOMUX', 'KENZI', 'Prom', 'Dzhin-shop', 'ITFridge', 'Eldorado', 'onecase', 'Oneaccs', 'mobicoon.com....', 'ROZETKA', 'magazin-shop', 'WOMUX', 'mobiks.com.ua', 'ROZETKA']\n",
      "['Чехол-книга для Huawei Y6 2019 книжка с подставкой магнитом на телефон хуавей у6 2019 серая STN', '', 'Чохол Idewei для Huawei Y6 2019 книжка шкіра PU коричневий. Чохли для мобільних телефонів', '', 'Чехол книжка противоударный магнитный КОЖАНЫЙ влагостойкий для Huawei Y6 2019 \"VERSANO\" No8 - Черный', '', 'Чехол книга для Huawei Y6 2019 с эко кожи с подставкой магнитом книжка на телефон хуавей у6 2019 бордовая STN', '', 'Чохол Idewei для Huawei Y6 2019 книжка шкіра PU синій. Чохли для мобільних телефонів', '', 'Шкіряний чохол книжка GETMAN Gallant (PU) для Huawei Y6p', '', 'Чехол G-Case для Huawei Y6 2019 / Y6 Pro 2019 книжка Ranger Series магнитная Black', '', 'Чехол-книжка Litchie Wallet для Huawei Y6 2019 Black', '', 'Чехол книжка Premium кожаный Huawei Y6 (2019) Бордовый', '', 'Чехол для Huawei Y6 Pro 2019 черный матовый soft touch', '', 'Чехол книжка противоударный магнитный КОЖАНЫЙ влагостойкий для Huawei Y6 2019 \"VERSANO\" No4 - Светло-коричневый', '', 'Чехол-книжка Litchie Wallet для Huawei Y6 2019 Black', '', 'Чехол книжка Premium для Huawei Y6 2019 синий', '', 'Чехол книжка противоударный магнитный КОЖАНЫЙ влагостойкий для Huawei Y6 2019 \"GOLDAX\" Бордовый', '', 'Чехол книжка для Huawei Y6 Prime (2018) - Flip Magnetic Case (чёрный). Защитный магнитный чехол для телефона', '', 'Чехол книжка Classic для Huawei (Хуавей) Y6 2019', '', 'Чехол Bob книжка Huawei Y6p', '', 'Чохол книжка Level для Huawei Y5 2019 Екошкіра Бордовий', '', 'Чехол-книжка GELIUS New Air Book для Samsung Galaxy A12 Red (83218)', '', 'Кожаный чехол книжка GETMAN Gallant (PU) для Huawei Y6p', '', 'Чехол книга для Huawei Y6 2019 с эко кожи с подставкой магнитом книжка на телефон хуавей у6 2019 розовая STN', '', 'Чехол-книжка G-Case для Huawei Y6 Prime (2019) Black', '', 'Чохол Idewei для Huawei Y6 2019 книжка шкіра PU чорний. Чохли для мобільних телефонів', '', 'Чехол книжка Magnei для Huawei P Smart Plus с магнитом', '', 'Чехол книжка магнитный противоударный для Huawei Y6 2019 / Enjoy 9e \"HLT\" Черный', '', 'Чехол книжка Evolou для Huawei P40 Lite (разные цвета)', '', 'Чохол G-Case для Huawei Y6 2019 / Y6 Pro 2019 книжка Ranger Series магнітна Black. Чохли для мобільних телефонів', '']\n",
      "Poltava чехол книжка iphone 11 pro max\n",
      "['Zakazuy', 'WOMUX', 'Zakazuy', 'WOMUX', 'Zakazuy', 'iLounge', 'shock.org.ua', 'KENZI', 'AKS.ua', 'Іван Чохол', 'ВЧехле', 'Top-best.ua', 'VEST', 'Zakazuy', 'Mobile-Case', '0629store.com....', 'Oneaccs', 'KENZI', 'Саме тут!', 'WOMUX', 'AKS.ua', 'ROZETKA', 'ВЧехле', 'y.ua', 'Іван Чохол', 'WOMUX', 'Top-best.ua']\n",
      "['Чехол-книжка с натуральной кожи Pierre Cardin Wallet для Iphone 11 Pro Max - Черный', '', 'Чехол книжка из натуральной кожи магнитный противоударный для Iphone 11 Pro MAX \"BOTTEGA\" Коричневый - No1', '', 'Чехол-книжка Dux Ducis с карманом для Iphone 11 Pro Max — Черный', '', 'Чехол книжка противоударный магнитный КОЖАНЫЙ влагостойкий для Iphone 11 Pro MAX \"VERSANO\" No8 - Черный', '', 'Чехол-книжка с натуральной кожи Pierre Cardin Wallet для Iphone 11 Pro Max - Темно-коричневый', '', 'Шкіряний чохол-гаманець iLoungeMax Leather Folio Midnight Blue для iPhone 11 Pro OEM, Лучшая копия Apple - Синій, Копії Apple', '', 'Чехол-книжка Nillkin Qin Leather Case Apple iPhone 11 Pro Max Black', '', 'Чехол книжка для iPhone 11 Pro Max - Flip Magnetic Case (марсала)', '', 'Чехол-книжка 1TOUCH Premium для iPhone 11 Pro Max (Black)', '', 'iPhone 11 Pro Max - Чехол Apple Leather Folio для iPhone 11 Pro Max Black Original (MX082)', '', 'Nillkin - Кожаный чехол (книжка) Nillkin Qin Pro Camshield для Xiaomi Redmi Note 11 Pro (Global)', '', \"Чохол книжка для iPhone 11 Pro Max Anomaly K'try Premium Black (Чорний)\", '', 'Чехол книжка зеркало Epik Clear View для Apple iPhone 11 Pro Max черный', '', 'Чехол-книжка Dux Ducis с карманом для Iphone 11 Pro Max — Синий', '', 'Чехол-книжка Litchie Wallet для Apple iPhone 11 Pro Max Black', '', 'Чехол Fiji G.C. для Apple Iphone 11 Pro Max книжка магнитная Black', '', 'Чехол книга для iPhone 11 Pro Max с эко кожи с подставкой книжка на телефон айфон 11 про макс черная STN', '', 'Чехол книжка для iPhone 11 Pro Max - Flip Magnetic Case (золотой)', '', 'Чехол UAG Metropolis для iPhone 11 Pro Max Чёрный', '', 'Чехол книжка магнитный противоударный для Iphone 11 Pro MAX \"HLT\" Черный', '', 'Чехол-книжка 1TOUCH Premium для iPhone 11 Pro Max (Dark Blue)', '', 'Чохол-книжка з екошкіри для телефону Apple iPhone 11 Pro Max 512GB чорний. Чохли для мобільних телефонів', '', 'Кожаный чехол (книжка) Nillkin Qin Series для Apple iPhone 11 Pro Max (6.5\")', '', 'iPhone 11 Pro Max - Аксессуар для iPhone Apple Leather Folio Case Aubergine (MX092) for iPhone 11 Pro Max', '', 'iPhone 11 Pro Max - Чехол Apple Leather Folio для iPhone 11 Pro Max Aubergine Original (MX092)', '', 'Чехол книжка противоударный магнитный КОЖАНЫЙ влагостойкий для Iphone 11 Pro MAX \"VERSANO\" No4 - Светло-коричневый', '', 'Чехол книжка для iPhone 11 Pro Max Kalaideng Royale II Black (Черный)', '']\n",
      "Sumy чехол книжка на айфон 12\n",
      "['WOMUX', 'ITFridge', 'bestcover.com.ua', 'ВЧехле', 'AKS.ua', 'KENZI', 'VEST', 'e-star.ua', 'WOMUX', 'iLounge', 'Nillkincase.com...', 'WOMUX', 'Eldorado', 'ITFridge', 'ВЧехле', 'WOMUX', 'ROZETKA', 'MOYO.ua', 'chekhol.com.ua', 'Іван Чохол', 'Mobile-Case', 'Zakazuy', 'WOMUX', 'Oneaccs', 'iLounge', 'VEST', 'WOMUX', 'WOMUX', 'WOMUX']\n",
      "['Чехол книжка из натуральной кожи магнитный противоударный для IPhone 12 \"BOTTEGA\" Коричневый - No1', '', 'Чехол книжка Level для iPhone 12 / 12 Pro Экокожа Черный', '', 'Чехол-книжка Litchie Wallet для Apple iPhone 12 / 12 Pro Black', '', 'Кожаный чехол (книжка) Nillkin Qin Series для iPhone 12', '', 'Чехол-книжка 1TOUCH Premium для iPhone 12, iPhone 12 Pro (Black)', '', 'Чехол книжка для iPhone 12 - Flip Magnetic Case (марсала)', '', 'Чехол книжка зеркало Clear View для Apple Iphone 12 / 12 Pro', '', 'Чехол книжка для iPhone 12 / iPhone 12 Pro Anomaly Clear View Black (Черный)', '', 'Чехол книжка противоударный магнитный КОЖАНЫЙ влагостойкий для IPhone 12 \"GOLDAX\" Бордовый', '', 'Шкіряний чохол-гаманець iLoungeMax Leather Folio Midnight Blue для iPhone 11 Pro OEM, Лучшая копия Apple - Синій, Копії Apple', '', 'Шкіряний чохол (книжка) Nillkin Qin Pro Camshield для Apple iPhone 13 (6.1 \"), Синий', '', 'Чехол книжка противоударный магнитный КОЖАНЫЙ влагостойкий для IPhone 12 \"VERSANO\" No4 - Светло-коричневый', '', 'Чехол-книжка GELIUS New Air Book для Samsung Galaxy A12 Red (83218)', '', 'Чехол книжка Level для iPhone 12 / 12 Pro Экокожа Бордовый', '', 'Кожаный чехол (книжка) Nillkin Qin Pro Camshield для Apple iPhone 13 Pro (6.1\")', '', 'Чехол книжка противоударный магнитный КОЖАНЫЙ влагостойкий для IPhone 12 \"VERSANO\" No8 - Черный', '', 'Чохол-книжка Armorstandart G-Case для Oppo A12 Blue (ARM58028). Чохли для мобільних телефонів', '', 'Чохол UAG для iPhone 12/12 Pro Metropolis (PU) SATN Black (112356113840)', '', 'Кожаный чехол-книжка Fierre Shann Genuine leather на iPhone 13 mini - синий', '', 'Чехол-книжка Mercedes для iPhone 12 | 12 Pro Urban Line Red (MEFLBKP12MARMRE)', '', 'Чехол-книжка Litchie Wallet для Apple iPhone 12 / 12 Pro Black', '', 'Чехол-книжка Dux Ducis с карманом для Iphone 12 / 12 Pro - Розовый', '', 'Чехол книжка противоударный магнитный КОЖАНЫЙ влагостойкий для IPhone 12 \"GOLDAX\" Черный', '', 'Чехол-книга для Apple iPhone 12 Nillkin кожаная плотная чохол книжка на айфон 12 черная', '', 'Кожаный чехол-книжка Nillkin Qin Pro Leather Case Black для iPhone 14 | 13 - Черный, Обложки', '', 'Чехол-книжка Epik Tayler для Apple iPhone 12 / 12 Pro черный', '', 'Чехол книжка из натуральной кожи магнитный противоударный для Xiaomi 12 \"ITALIAN\"', '', 'Чехол книжка из натуральной мраморной кожи противоударный магнитный для IPhone 12 Pro Max \"MARBLE\" Тёмно-коричневый', '', 'Чехол книжка противоударный магнитный КОЖАНЫЙ влагостойкий для Infinix Hot 12 Play NFC (X6816D) \"VERSANO\" No8 - Черный', '']\n"
     ]
    },
    {
     "name": "stdout",
     "output_type": "stream",
     "text": [
      "Ternopil чехол книжка honor 9x\n",
      "['KENZI', 'Labaks', '0629store.com....', 'VEST', 'ROZETKA', 'skl.com.ua', 'KENZI', 'WOMUX', 'Steklon.com.ua', 'CityTorg', 'Prom', 'Zorrov', 'ROZETKA', 'VEST', 'АЛЛО', 'ROZETKA', 'Eldorado', 'WOMUX', 'IZI.UA', 'vst-shop.com.ua', 'Prom', 'mocolo.org.ua', 'e-star.ua', 'VEST']\n",
      "['Чехол книжка для Honor 9X - Flip Magnetic Case (чёрный). Защитный магнитный чехол для телефона', '', 'Чехол книжка Premium кожаный Huawei Honor 9X Черный', '', 'Чехол G-Case для Honor 9X China книжка Ranger Series магнитная Black', '', 'Чехол-книжка зеркало Epik Clear View для Huawei Honor 9X (China) фиолетовый', '', 'Чохол G-Case для Honor 9X China книжка Ranger Series магнітна Black. Чохли для мобільних телефонів', '', 'Чехол-книжка Huawei Honor 9X – Fashion', '', 'Чехол книжка для Honor 9X - Flip Magnetic Case (золотой)', '', 'Чехол книжка противоударный магнитный КОЖАНЫЙ влагостойкий для Honor 9X Lite \"VERSANO\" No8 - Черный', '', 'Чехол книжка кожаный Huawei Honor 9X (Черный)', '', 'Чехол-книжка для Huawei Honor 9X, черный', '', 'Чехол-книжка для Huawei Honor 9X Premium Черный ( Хуавей Хонор 9 икс )', '', 'Чехол для Huawei Honor 9X Pro черный матовый soft touch', '', 'Чохол-книжка ColorWay Elegant Book для Xiaomi Poco M4 Pro 5G Black (CW-CEBXPM4P5-BK). Чохли для мобільних телефонів', '', 'Чехол-книжка зеркало Epik Clear View для Huawei Honor 9X (China) черный', '', 'Чехол-книжка зеркало Epik Clear View для Huawei Honor 9X (China) Black Чехлы для смартфонов', '', 'Чохол-книжка KHAZNEH Retro Wallet для Huawei Honor 9X Lite - Red. Чохли для мобільних телефонів', '', 'Чехол-книжка Gelius Air Book для Xiaomi POCO M4 Pro Black (90125)', '', 'Чехол книжка противоударный магнитный для Honor 9X Lite \"PRIVILEGE\" Черный - No9', '', 'Чехол-книжка для Huawei Honor 9X, черный', '', 'Чехол-книжка Rocel для Huawei Honor 9X (China) черный', '', 'Чехол книжка Huawei Honor 9x Зеленый цвет \\\\ чехол-книга Honor 9x магнитная есть отдел для карты', '', 'Magnetic case (магнитный чехол) для Huawei Honor 9X (Kirin 810)', '', 'Чехол бампер для Huawei Honor 9X Anomaly Leather Fit Blue (Синий)', '', 'Чехол-книжка зеркало Epik Clear View для Huawei Honor 9X (China)', '']\n",
      "Kharkiv купить чехол на редми 7 книжка\n",
      "['ВЧехле', 'yavshoke.ua', 'ITFridge', 'magazin-shop', 'KENZI', '4you', '0629store.com....', 'Oneaccs', 'WOMUX', 'shock.org.ua', 'ROZETKA', 'Zorrov', 'ITFridge', 'itsell', 'ВЧехле', 'e-star.ua', 'Easybay', 'skl.com.ua', 'Посуд Шеф', 'Shturman', 'Prom', 'ВЧехле', 'Kiber Panda', 'ITFridge', 'Steklon.com.ua', 'ITFridge', 'WOMUX', 'Oneaccs', 'ВЧехле']\n",
      "['Кожаный чехол (книжка) Classy для Xiaomi Redmi 7', '', 'Чехол-книжка TOTO Book Rounded Leather Case Xiaomi Redmi 7 Navy Blue', '', 'Чехол книжка Level для Xiaomi Redmi Note 7 Экокожа Бордовый', '', 'Чехол книжка Magnei для Xiaomi Redmi 7 с магнитом', '', 'Чехол книжка для Xiaomi Redmi 7 - Flip Magnetic Case (марсала). Защитный магнитный чехол для телефона', '', 'Чохол-книжка для телефону Xiaomi Redmi Note 7 Mia Dark blue (4you)', '', 'Чехол G-Case для Xiaomi Redmi 7 книжка Ranger Series магнитная Black', '', 'Чехол книга для Xiaomi Redmi 7 с эко кожи с подставкой магнитом книжка на телефон сяоми редми 7 красная STN', '', 'Чехол книжка противоударный магнитный КОЖАНЫЙ влагостойкий для XIAOMI Redmi 7 \"GOLDAX\"', '', 'Чехол-книжка TOTO Book Rounded Leather Case Xiaomi Redmi 7 Navy Blue', '', 'Чехол-книжка Logarm Protective для Xiaomi Redmi 7 Черный Без бренда. Чехлы для мобильных телефонов', '', 'Чехол для Xiaomi Redmi 7 черный матовый soft touch', '', 'Чехол книжка Level для Xiaomi Redmi Note 7 Экокожа Синий', '', 'Кожаный чехол (книжка) Art Case с визитницей для Xiaomi Redmi Note 7 / Note 7 Pro / Note 7s (Черный)', '', 'Кожаный чехол книжка GETMAN Gallant (PU) для Realme 7 Pro', '', \"Чехол книжка для Xiaomi Redmi K30 Anomaly K'try Premium Black (Черный)\", '', 'Чехол-книжка TOTO Book Rounded Leather Case Xiaomi Redmi Note 7 Gold', '', 'Чехол-книжка Xiaomi Redmi 7 – Fashion', '', 'Чехол-книжка TOTO Book Rounded Leather Case Xiaomi Redmi 7 Gray', '', 'Чехол-книжка \"Клевер\" для Xiaomi Redmi 7', '', 'Чехол книжка для Xiaomi (Ксиоми)Redmi Note 7 / Note 7 Pro / Note 7s \"Classic\"с визитницей', '', 'Кожаный чехол (книжка) Art Case с визитницей для Xiaomi Redmi Note 7 Pro', '', 'Чехол книжка Premium для Xiaomi Redmi 7 черный', '', 'Чехол книжка Mavis для Xiaomi Redmi 7 из натуральной кожи Бордовый', '', 'Чехол книжка кожанный Xiaomi Redmi 7 (Черный)', '', 'Чехол книжка Level для Xiaomi Redmi 7 Экокожа Золотой', '', 'Чехол книжка противоударный магнитный для XIAOMI Redmi 7 \"PRIVILEGE\"', '', 'Чехол-книга для Xiaomi Redmi 7 книжка с подставкой на телефон сяоми редми 7 синяя STN', '', 'Кожаный чехол (книжка) Art Case с визитницей для TECNO Spark 7', '']\n",
      "Kherson samsung galaxy a02 чехол книжка\n",
      "[]\n",
      "[]\n",
      "Khmelnytskyi купить чехол на редми 7 книжка\n",
      "['yavshoke.ua', 'ВЧехле', 'KENZI', 'ITFridge', '0629store.com....', 'magazin-shop', 'Zorrov', 'shock.org.ua', 'WOMUX', '4you', 'Oneaccs', 'Shturman', 'ITFridge', 'itsell', 'ROZETKA', 'Посуд Шеф', 'ВЧехле', 'skl.com.ua', 'ВЧехле', 'cherdak-store.c...', 'Kiber Panda', '0629store.com....', 'Prom', 'ВЧехле', 'ITFridge', 'Labaks', 'ВЧехле']\n",
      "['Чехол-книжка TOTO Book Rounded Leather Case Xiaomi Redmi 7 Navy Blue', '', 'Кожаный чехол (книжка) Classy для Xiaomi Redmi 7', '', 'Чехол книжка для Xiaomi Redmi 7 - Flip Magnetic Case (марсала)', '', 'Чехол книжка Level для Xiaomi Redmi Note 7 Экокожа Бордовый', '', 'Чехол G-Case для Xiaomi Redmi 7 книжка Ranger Series магнитная Black', '', 'Чехол книжка Magnei для Xiaomi Redmi 7 с магнитом', '', 'Чехол для Xiaomi Redmi 7 черный матовый soft touch', '', 'Чехол-книжка TOTO Book Rounded Leather Case Xiaomi Redmi 7 Navy Blue', '', 'Чехол книжка противоударный магнитный КОЖАНЫЙ влагостойкий для XIAOMI Redmi 7 \"GOLDAX\"', '', 'Чохол-книжка для телефону Xiaomi Redmi Note 7 NANCY Black (4you)', '', 'Чехол книга для Xiaomi Redmi 7 с эко кожи с подставкой магнитом книжка на телефон сяоми редми 7 красная STN', '', 'Чехол-книжка \"Клевер\" для Xiaomi Redmi 7', '', 'Чехол книжка Level для Xiaomi Redmi Note 7 Экокожа Синий', '', 'Кожаный чехол (книжка) Art Case с визитницей для Xiaomi Redmi Note 7 / Note 7 Pro / Note 7s (Черный)', '', 'Чехол-книжка Logarm Protective для Xiaomi Redmi 7 Черный Без бренда. Чехлы для мобильных телефонов', '', 'Чехол-книжка TOTO Book Rounded Leather Case Xiaomi Redmi 7 Navy Blue', '', 'Кожаный чехол книжка GETMAN Gallant (PU) для TECNO Spark 7', '', 'Чехол-книжка Xiaomi Redmi 7 – Fashion', '', 'Кожаный чехол книжка GETMAN Gallant (PU) для Realme 7 Pro', '', 'Чехол-книжка DK-Case кожа с пластиком Flip Cover Magnetic для Xiaomi Redmi 7 (black)', '', 'Чехол книжка Premium для Xiaomi Redmi 7 черный', '', 'Чехол G-Case для Xiaomi Redmi 7 книжка Ranger Series магнитная Grey', '', 'Чохол книжка Momax Xiaomi Redmi 7 gold', '', 'Кожаный чехол (книжка) Art Case с визитницей для TECNO Spark 7', '', 'Чехол книжка Mavis для Xiaomi Redmi 7 из натуральной кожи Бордовый', '', 'Чехол книжка Premium кожаный Xiaomi Redmi Note 7 Pro Черный', '', 'Кожаный чехол (книжка) Art Case с визитницей для Xiaomi Redmi Note 7 Pro', '']\n",
      "Cherkasy самсунг а 30 чехол книжка\n",
      "['MobiFun Store', 'KENZI', 'ROZETKA', 'ВЧехле', 'skl.com.ua', 'ITFridge', 'Zorrov', 'Oneaccs', 'ВЧехле', 'WOMUX', 'ВЧехле', 'Prom', 'ВЧехле', 'itsell', 'chekhol.com.ua', 'Labaks', 'Eldorado', 'KENZI', 'ITFridge', 'Stardroid.UA', 'WOMUX', 'Dzhin-shop', 'ROZETKA', 'bestcover.com.ua']\n",
      "['Чехол-книжка Samsung Galaxy A30 (2019) Черный', '', 'Чехол книжка для Samsung A30 - Flip Magnetic Case (чёрный). Защитный магнитный чехол для телефона', '', 'Чохол-книжка ColorWay Elegant Book для Xiaomi Poco M4 Pro 5G Black (CW-CEBXPM4P5-BK). Чохли для мобільних телефонів', '', 'Кожаный чехол (книжка) Classy для Samsung Galaxy A30', '', 'Чехол-книжка Samsung Galaxy A30 – Fashion', '', 'Чехол книжка Level для Samsung Galaxy A30 A305 Экокожа Черный', '', 'Чехол для Samsung Galaxy A30 черный матовый soft touch', '', 'Чехол книга для Samsung A30s с эко кожи с подставкой магнитом книжка на телефон самсунг а30с синяя STN', '', 'Кожаный чехол (книжка) Art Case с визитницей для Samsung Galaxy A30s', '', 'Чехол книжка противоударный магнитный для Samsung A30 А305F \"PRIVILEGE\"', '', 'Кожаный чехол (книжка) Art Case с визитницей для Samsung Galaxy A30', '', 'Чехол книжка Samsung A30 черный \\\\ Чехол книжка для Samsung A30 черный (книжка чехол на магните)', '', 'Чехол-книжка Dux Ducis с карманом для Samsung Galaxy A30s', '', 'Кожаный чехол (книжка) Art Case с визитницей для Samsung Galaxy A30s (Черный)', '', 'Чехол-книжка Butterflies Pattern на Samsung Galaxy S21 Ultra - фиолетовый', '', 'Чехол книжка Premium кожаный Samsung Galaxy A30, A20 Черный', '', 'Чехол-книжка GELIUS для Samsung Galaxy A31 Black (79061)', '', 'Чехол книжка для Samsung A30S - Flip Magnetic Case (чёрный)', '', 'Чехол книжка Level для Samsung Galaxy A30s A307 Экокожа Черный', '', 'Чехол (книжка) BOSO для Samsung Galaxy A13', '', 'Чехол книжка противоударный магнитный КОЖАНЫЙ влагостойкий для Samsung A30s A307F \"GOLDAX\" Бордовый', '', 'Чехол TPU книжка на Samsung Galaxy A30 2019 A305', '', 'Чохол-книжка Armorstandart G-Case для Oppo A12 Blue (ARM58028). Чохли для мобільних телефонів', '', 'Чехол-книжка Animal Wallet для Samsung Galaxy A10 Cat', '']\n"
     ]
    },
    {
     "name": "stdout",
     "output_type": "stream",
     "text": [
      "Chernihiv чехол книжка самсунг а50\n",
      "['MobiFun Store', 'KENZI', 'ITFridge', 'ВЧехле', 'Oneaccs', 'shock.org.ua', 'skl.com.ua', 'ВЧехле', 'WOMUX', 'Labaks', 'Zakazuy', 'ВЧехле', 'bestcover.com.ua', 'ROZETKA', 'chekhol.com.ua', 'mocolo.org.ua', 'Oneaccs', 'Kiber Panda', 'KENZI', 'ВЧехле', 'WOMUX', 'Zorrov', 'Oneaccs', 'Oneaccs']\n",
      "['Чехол-книжка Samsung Galaxy A50 (2019) Бронза', '', 'Чехол книжка для Samsung A50 - Flip Magnetic Case (чёрный). Защитный магнитный чехол для телефона', '', 'Чехол книжка Level для Samsung Galaxy A50 A505 Экокожа Черный', '', 'Кожаный чехол (книжка) Art Case с визитницей для Samsung Galaxy A50 (A505F)', '', 'Чехол книга для Samsung Galaxy A50 с эко кожи с подставкой магнитом книжка на телефон самсунг а50 синяя STN', '', 'Чехол-книжка Nillkin Sparkle Leather Case Samsung Galaxy A50 Black', '', 'Чехол-книжка Samsung Samsung Galaxy A50 – Fashion', '', 'Чехол-книжка Dux Ducis с карманом для Samsung Galaxy A50 (A505F)', '', 'Чехол книжка противоударный магнитный КОЖАНЫЙ влагостойкий для Samsung A50 А505F \"GOLDAX\" Бордовый', '', 'Чехол книжка Premium кожаный Samsung Galaxy A50, A50s, A30s Черный', '', 'Защитный чехол Dux Ducis Skin Lite для Samsung Galaxy A50 / A30s - Черный', '', 'Чехол Nillkin Matte для Samsung Galaxy A50 (A505F)', '', 'Чехол-книжка Litchie Wallet для Samsung Galaxy A50 / A50s / A30s Черный', '', 'Чехол-книжка G-Case Ranger Series для Samsung Galaxy А50 (2019) А505 / A30s Фиолетовый. Чехлы для мобильных телефонов', '', 'Чехол-книжка Butterflies Pattern на Samsung Galaxy S22 Plus 5G - фиолетовый', '', 'Чехол Clear View Standing Cover для Samsung Galaxy A50', '', 'Чехол книга для Samsung A50 с эко кожи с подставкой магнитом книжка на телефон самсунг а50 зеленая STN', '', 'Чехол книжка для Samsung Galaxy A51 (A515) Premium HD Синий', '', 'Чехол книжка для Samsung A50 - Flip Magnetic Case (красный). Защитный магнитный чехол для телефона', '', 'Ударопрочный чехол Serge Ring for Magnet для Samsung Galaxy A50 (A505F)', '', 'Чехол книжка из натуральной кожи магнитный противоударный для Samsung J8 (2018) J810 \"BOTTEGA\" Коричневый - No1', '', 'Чехол для Samsung Galaxy A50 черный матовый soft touch', '', 'Чехол книга для Samsung Galaxy A50 с эко кожи с подставкой магнитом книжка на телефон самсунг а50 серая STN', '', 'Чехол-книга для Samsung Galaxy A50 с магнитом с подставкой книжка на телефон самсунг а50 розовая STN', '']\n",
      "Chernivtsi чехол книжка на xiaomi redmi note 8т\n",
      "['yavshoke.ua', 'ROZETKA', 'oneklik', 'e-star.ua', 'ВЧехле', 'ITFridge', 'Stardroid.UA', 'Zakazuy', 'ВЧехле', '2win.com.ua', 'Labaks', 'e-star.ua', 'KENZI', 'ITFridge', 'WOMUX', 'Oneaccs', 'ROZETKA', 'ITFridge', 'LA Mobile', 'ВЧехле', 'skl.com.ua', 'e-star.ua', 'MobiFun Store', 'Kiber Panda', 'oneklik']\n",
      "['Чехол-книжка TOTO Book Rounded Leather Case Xiaomi Redmi Note 8T Gold', '', 'Чохол-книжка ColorWay Elegant Book для Xiaomi Poco M4 Pro 5G Black (CW-CEBXPM4P5-BK). Чохли для мобільних телефонів', '', 'Чехол-Книжка с карманами для карт для Xiaomi Redmi Note 8T цвет Черный', '', 'Чехол книжка для Xiaomi Redmi Note 8 Mofi Retro Book Black (Черный)', '', 'Кожаный чехол (книжка) Art Case с визитницей для Xiaomi Redmi Note 9 5G', '', 'Чехол книжка Level для Xiaomi Redmi Note 8T Экокожа Синий', '', 'Чехол (книжка) BOSO для Xiaomi Redmi Note 8T - Black', '', 'Чехол-книжка Dux Ducis с карманом для Xiaomi Redmi Note 8T — Золотой', '', 'Кожаный чехол (книжка) Classy для Xiaomi Redmi Note 8T', '', 'Чехол-книжка Standart Xiaomi Redmi Note 8T Black', '', 'Чехол книжка Premium кожаный Xiaomi Redmi Note 8T Черный', '', 'Чехол книжка для Xiaomi Redmi Note 8 Mofi Cross Champagne Gold (Шампанское Золото)', '', 'Чехол книжка для Xiaomi Redmi Note 8 - Flip Magnetic Case (чёрный). Защитный магнитный чехол для телефона', '', 'Чехол книжка Level для Xiaomi Redmi Note 8T Экокожа Зеленый', '', 'Xiaomi - Чехол книжка из натуральной кожи магнитный противоударный для XIAOMI Redmi NOTE 8T \"BOTTEGA\"', '', 'Xiaomi - Чехол книга для Xiaomi Redmi Note 8t с эко кожи с подставкой книжка на телефон сяоми редми нот 8т черная STN', '', 'Чохол Idewei для Xiaomi Redmi Note 8 книжка шкіра PU синій. Чохли для мобільних телефонів', '', 'Чехол книжка Xiaomi Redmi Note 8T Classic Золотой', '', 'Чехол книжка для Xiaomi Redmi Note 8T Black magnet серый', '', 'Кожаный чехол книжка GETMAN Gallant (PU) для Xiaomi Redmi Note 8T', '', 'Чехол-книжка Xiaomi Redmi Note 8T – Fashion', '', 'Чехол книжка для Xiaomi Redmi Note 8 Mofi Rui Brown (Коричневый)', '', 'Xiaomi - Чехол-книжка Xiaomi Redmi Note 8 Черный', '', 'Чехол книжка Premium для Xiaomi Redmi Note 8T черный', '', 'Чехол-Книжка iMeeke для Xiaomi Redmi Note 8T цвет Коричневый', '']\n"
     ]
    }
   ],
   "source": [
    "from selenium import webdriver\n",
    "from selenium.webdriver.common.by import By\n",
    "import chromedriver_autoinstaller\n",
    "import datetime\n",
    "import uule_grabber\n",
    "import time\n",
    "import secrets\n",
    "\n",
    "\n",
    "chromedriver_autoinstaller.install()\n",
    "dt_csv = datetime.datetime.now().strftime(\"%d_%m_%Y_%H_%M_%S\")\n",
    "filegeo = 'geo_u.txt'\n",
    "with open(f'{filegeo}', 'r', encoding=\"utf-8\") as f:\n",
    "        proxies1 = list(filter(lambda x: len(x.strip()) > 0, f))\n",
    "        geo = list(map(lambda x: x.replace('\\n', ''), proxies1))\n",
    "        \n",
    "filegeo = 'keywords_kenzi.txt'\n",
    "with open(f'{filegeo}', 'r', encoding=\"utf-8\") as f:\n",
    "        proxies1 = list(filter(lambda x: len(x.strip()) > 0, f))\n",
    "        keywords = list(map(lambda x: x.replace('\\n', ''), proxies1))\n",
    "\n",
    "hl = 'ru' #hl=sv          Swedish https://en.wikipedia.org/wiki/List_of_ISO_639-1_codes\n",
    "country = 'ua' #se \tSweden  \n",
    "num = '10' # Кількість результатів пошуку\n",
    "zone = 'com.ua' #'com.ua'\n",
    "# region = 'Kyiv,Kyiv city,Ukraine'  #'Kyiv,Kyiv city,Ukraine', 'UA'   New York,New York,United States\n",
    "# uule = uule_grabber.uule(region)\n",
    "\n",
    "for region in geo:\n",
    "    uule = uule_grabber.uule(region)\n",
    "    city = region.split(',')[0]\n",
    "    keyword = secrets.choice(keywords)\n",
    "\n",
    "    chrome_options = webdriver.ChromeOptions()\n",
    "    chrome_options.headless = True\n",
    "    chrome_options.add_argument(\"--disable-blink-features=AutomationControlled\")\n",
    "    chrome_options.add_argument(\"start-maximized\")\n",
    "#         mobile_emulation = { \"deviceName\": \"Nexus 5\", \"userAgent\": \"Mozilla/5.0 (Linux; Android 4.2.1; en-us; Nexus 5 Build/JOP40D) AppleWebKit/535.19 (KHTML, like Gecko) Chrome/18.0.1025.166 Mobile Safari/535.19\" } }\n",
    "\n",
    "#         chrome_options.add_experimental_option(\"mobileEmulation\", mobile_emulation)\n",
    "\n",
    "    dt = datetime.datetime.now().strftime(\"%d_%m_%Y_%H_%M_%S\")\n",
    "\n",
    "    print(city, keyword)\n",
    "    browser = webdriver.Chrome(options=chrome_options)\n",
    "    browser.get(f'https://google.com.ua/search?q={keyword}&pws=0&uule={uule}&hl={hl}&gl={country}')\n",
    "    time.sleep(2)\n",
    "    \n",
    "    opys = {}\n",
    "    brands = {}\n",
    "    try:\n",
    "        if browser.find_elements(By.XPATH, \"//div[@id='result-stats']\"):\n",
    "            browser.save_screenshot(f'screenshots/{dt}_{city}_desk.png')\n",
    "            brend = browser.find_elements(By.XPATH, \"//div[@class='LbUacb']\")\n",
    "            brends = list(map(lambda x: x.text, brend))\n",
    "            brands[keyword] = brends\n",
    "#             print(brends)\n",
    "            title = browser.find_elements(By.XPATH, \"//span[@class='pymv4e']\")\n",
    "            titles = list(map(lambda x: x.text, title))\n",
    "#             print(titles)\n",
    "#             opys[keyword] = [brends, titles]\n",
    "            opys[keyword] = [list(tup) for tup in zip(brends, titles)]\n",
    "            file = open(f\"{dt_csv}_vydacha.csv\", \"a\", encoding=\"utf-8\")\n",
    "\n",
    "            # make write object\n",
    "            writer = csv.writer(file, lineterminator = '\\n')\n",
    "            for key, value in opys.items():\n",
    "                writer.writerow([key, value])\n",
    "            file.close()\n",
    "            file = open(f\"{dt_csv}_brands.csv\", \"a\", encoding=\"utf-8\")\n",
    "\n",
    "            # make write object\n",
    "            writer = csv.writer(file, lineterminator = '\\n')\n",
    "            for key, value in opys.items():\n",
    "                writer.writerow([key, value])\n",
    "            file.close()\n",
    "\n",
    "            \n",
    "    except:pass\n",
    "#     break\n",
    "\n",
    "    browser.close()\n",
    "    browser.quit()\n",
    "    time.sleep(15)   \n"
   ]
  },
  {
   "cell_type": "code",
   "execution_count": 43,
   "id": "0de64df1",
   "metadata": {},
   "outputs": [
    {
     "data": {
      "text/plain": [
       "[[1, 11], [2, 22], [3, 33], [4, 44]]"
      ]
     },
     "execution_count": 43,
     "metadata": {},
     "output_type": "execute_result"
    }
   ],
   "source": [
    "l1 = [1,2,3,4]\n",
    "\n",
    "l2 = [11,22,33,44]\n",
    "\n",
    "[list(tup) for tup in zip(l1, l2)]\n",
    "\n",
    "# In [27]: [list(tup) for tup in zip(l1, l2)]\n",
    "# Out[27]: [[1, 11], [2, 22], [3, 33], [4, 44]]"
   ]
  },
  {
   "cell_type": "code",
   "execution_count": 42,
   "id": "1e1e4596",
   "metadata": {},
   "outputs": [
    {
     "data": {
      "text/plain": [
       "<zip at 0xed79cc0>"
      ]
     },
     "execution_count": 42,
     "metadata": {},
     "output_type": "execute_result"
    }
   ],
   "source": [
    "f"
   ]
  },
  {
   "cell_type": "code",
   "execution_count": 35,
   "id": "76f10108",
   "metadata": {},
   "outputs": [
    {
     "name": "stdout",
     "output_type": "stream",
     "text": [
      "['KENZI', 'Labaks', 'magazin-shop', 'Mobile-Case', 'Vseplus.com', 'bestcover.com.ua', 'ROZETKA', 'Zorrov', 'KENZI', 'e-star.ua', 'ВЧехле', 'Easybay']\n"
     ]
    }
   ],
   "source": [
    "brends = browser.find_elements(By.XPATH, \"//div[@class='LbUacb']\")\n",
    "titles = list(map(lambda x: x.text, brends))\n",
    "print(titles)\n",
    "# for j in brends:\n",
    "#     try:\n",
    "#         print(j.text)\n",
    "#     except:pass"
   ]
  },
  {
   "cell_type": "code",
   "execution_count": 21,
   "id": "97ed07aa",
   "metadata": {},
   "outputs": [],
   "source": [
    "brends1 = brends[0].find_element(By.XPATH, \"//span[@class='zPEcBd LnPkof']\")"
   ]
  },
  {
   "cell_type": "code",
   "execution_count": 25,
   "id": "fd11991a",
   "metadata": {},
   "outputs": [
    {
     "data": {
      "text/plain": [
       "<selenium.webdriver.remote.webelement.WebElement (session=\"6845ae67dff1713d4641968c9387cf77\", element=\"305fcd56-d7b0-489a-a0bd-1f4a3eb5234f\")>"
      ]
     },
     "execution_count": 25,
     "metadata": {},
     "output_type": "execute_result"
    }
   ],
   "source": [
    "brends[.find_element(By.CLASS_NAME, \"zPEcBd LnPkof\").get_attribute(\"textContent\")"
   ]
  },
  {
   "cell_type": "code",
   "execution_count": 36,
   "id": "05e48c91",
   "metadata": {},
   "outputs": [],
   "source": [
    "import csv\n",
    "csv_columns = ['No','Name','Country']\n",
    "dict_data = [\n",
    "{'No': 1, 'Name': 'Alex', 'Country': 'India'},\n",
    "{'No': 2, 'Name': 'Ben', 'Country': 'USA'},\n",
    "{'No': 3, 'Name': 'Shri Ram', 'Country': 'India'},\n",
    "{'No': 4, 'Name': 'Smith', 'Country': 'USA'},\n",
    "{'No': 5, 'Name': 'Yuva Raj', 'Country': 'India'},\n",
    "]\n",
    "csv_file = \"Names.csv\"\n",
    "try:\n",
    "    with open(csv_file, 'w') as csvfile:\n",
    "        writer = csv.DictWriter(csvfile, fieldnames=csv_columns)\n",
    "        writer.writeheader()\n",
    "        for data in dict_data:\n",
    "            writer.writerow(data)\n",
    "except IOError:\n",
    "    print(\"I/O error\")"
   ]
  },
  {
   "cell_type": "code",
   "execution_count": 38,
   "id": "a8a68fb1",
   "metadata": {},
   "outputs": [],
   "source": [
    "import csv\n",
    "\n",
    "dict = {\"Name\": \"Vishvajit Rao\", \"age\": 23, \"Occupation\": \"Developer\",\"Skills\": \"Python\"}\n",
    "file = open(\"sample.csv\", \"w\")\n",
    "\n",
    "# make write object\n",
    "writer = csv.writer(file, lineterminator = '\\n')\n",
    "\n",
    "for key, value in dict.items():\n",
    "    writer.writerow([key, value])\n",
    "\n",
    "file.close()"
   ]
  },
  {
   "cell_type": "code",
   "execution_count": null,
   "id": "76b9ca82",
   "metadata": {},
   "outputs": [],
   "source": []
  }
 ],
 "metadata": {
  "kernelspec": {
   "display_name": "Python 3",
   "language": "python",
   "name": "python3"
  },
  "language_info": {
   "codemirror_mode": {
    "name": "ipython",
    "version": 3
   },
   "file_extension": ".py",
   "mimetype": "text/x-python",
   "name": "python",
   "nbconvert_exporter": "python",
   "pygments_lexer": "ipython3",
   "version": "3.8.8"
  }
 },
 "nbformat": 4,
 "nbformat_minor": 5
}
